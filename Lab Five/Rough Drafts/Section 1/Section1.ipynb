{
 "cells": [
  {
   "cell_type": "markdown",
   "metadata": {},
   "source": [
    "# Lab Assignment Five: Wide and Deep Network Architectures\n",
    "In this lab, you will select a prediction task to perform on your dataset, evaluate two different deep learning architectures and tune hyper-parameters for each architecture. If any part of the assignment is not clear, ask the instructor to clarify. \n",
    "\n",
    "This report is worth 10% of the final grade. Please upload a report (one per team) with all code used, visualizations, and text in a rendered Jupyter notebook. Any visualizations that cannot be embedded in the notebook, please provide screenshots of the output. The results should be reproducible using your report. Please carefully describe every assumption and every step in your report."
   ]
  },
  {
   "cell_type": "markdown",
   "metadata": {},
   "source": [
    "### Dataset Selection\n",
    "\n",
    "Select a dataset similarly to lab one. That is, the dataset must be table data and must have categorical features. In terms of generalization performance, it is helpful to have a large dataset for building a wide and deep network. It is also helpful to have many different categorical features to create the embeddings and cross-product embeddings. It is fine to perform binary classification, multi-class classification, or regression. You are NOT allowed to use the census (i.e., Adult) dataset that was given as an example in class. Be sure to provide a link or citation to your chosen dataset."
   ]
  },
  {
   "cell_type": "markdown",
   "metadata": {},
   "source": [
    "Dataset:\n",
    "- https://www.kaggle.com/datasets/mysarahmadbhat/mercedes-used-car-listing"
   ]
  },
  {
   "cell_type": "markdown",
   "metadata": {},
   "source": [
    "# **1. Preparation**"
   ]
  },
  {
   "cell_type": "markdown",
   "metadata": {},
   "source": [
    "## **1.1 Defining & Preparing Class Variables**"
   ]
  },
  {
   "cell_type": "code",
   "execution_count": 1,
   "metadata": {},
   "outputs": [],
   "source": [
    "# Importing packages\n",
    "import numpy as np\n",
    "import pandas as pd\n",
    "import missingno as mn\n",
    "\n",
    "# Scikit-Learn\n",
    "from sklearn.preprocessing import LabelEncoder, StandardScaler\n",
    "from sklearn.model_selection import StratifiedKFold\n",
    "from sklearn.ensemble import RandomForestClassifier\n",
    "from sklearn.metrics import accuracy_score, precision_score, recall_score, f1_score, confusion_matrix\n",
    "from sklearn.ensemble import RandomForestClassifier\n",
    "\n",
    "\n",
    "# Visualizations\n",
    "import matplotlib.pyplot as plt\n",
    "import seaborn as sns"
   ]
  },
  {
   "cell_type": "code",
   "execution_count": 2,
   "metadata": {},
   "outputs": [
    {
     "data": {
      "text/html": [
       "<div>\n",
       "<style scoped>\n",
       "    .dataframe tbody tr th:only-of-type {\n",
       "        vertical-align: middle;\n",
       "    }\n",
       "\n",
       "    .dataframe tbody tr th {\n",
       "        vertical-align: top;\n",
       "    }\n",
       "\n",
       "    .dataframe thead th {\n",
       "        text-align: right;\n",
       "    }\n",
       "</style>\n",
       "<table border=\"1\" class=\"dataframe\">\n",
       "  <thead>\n",
       "    <tr style=\"text-align: right;\">\n",
       "      <th></th>\n",
       "      <th>model</th>\n",
       "      <th>year</th>\n",
       "      <th>price</th>\n",
       "      <th>transmission</th>\n",
       "      <th>mileage</th>\n",
       "      <th>fuelType</th>\n",
       "      <th>tax</th>\n",
       "      <th>mpg</th>\n",
       "      <th>engineSize</th>\n",
       "    </tr>\n",
       "  </thead>\n",
       "  <tbody>\n",
       "    <tr>\n",
       "      <th>0</th>\n",
       "      <td>SLK</td>\n",
       "      <td>2005</td>\n",
       "      <td>5200</td>\n",
       "      <td>Automatic</td>\n",
       "      <td>63000</td>\n",
       "      <td>Petrol</td>\n",
       "      <td>325</td>\n",
       "      <td>32.1</td>\n",
       "      <td>1.8</td>\n",
       "    </tr>\n",
       "    <tr>\n",
       "      <th>1</th>\n",
       "      <td>S Class</td>\n",
       "      <td>2017</td>\n",
       "      <td>34948</td>\n",
       "      <td>Automatic</td>\n",
       "      <td>27000</td>\n",
       "      <td>Hybrid</td>\n",
       "      <td>20</td>\n",
       "      <td>61.4</td>\n",
       "      <td>2.1</td>\n",
       "    </tr>\n",
       "    <tr>\n",
       "      <th>2</th>\n",
       "      <td>SL CLASS</td>\n",
       "      <td>2016</td>\n",
       "      <td>49948</td>\n",
       "      <td>Automatic</td>\n",
       "      <td>6200</td>\n",
       "      <td>Petrol</td>\n",
       "      <td>555</td>\n",
       "      <td>28.0</td>\n",
       "      <td>5.5</td>\n",
       "    </tr>\n",
       "    <tr>\n",
       "      <th>3</th>\n",
       "      <td>G Class</td>\n",
       "      <td>2016</td>\n",
       "      <td>61948</td>\n",
       "      <td>Automatic</td>\n",
       "      <td>16000</td>\n",
       "      <td>Petrol</td>\n",
       "      <td>325</td>\n",
       "      <td>30.4</td>\n",
       "      <td>4.0</td>\n",
       "    </tr>\n",
       "    <tr>\n",
       "      <th>4</th>\n",
       "      <td>G Class</td>\n",
       "      <td>2016</td>\n",
       "      <td>73948</td>\n",
       "      <td>Automatic</td>\n",
       "      <td>4000</td>\n",
       "      <td>Petrol</td>\n",
       "      <td>325</td>\n",
       "      <td>30.1</td>\n",
       "      <td>4.0</td>\n",
       "    </tr>\n",
       "    <tr>\n",
       "      <th>5</th>\n",
       "      <td>SL CLASS</td>\n",
       "      <td>2011</td>\n",
       "      <td>149948</td>\n",
       "      <td>Automatic</td>\n",
       "      <td>3000</td>\n",
       "      <td>Petrol</td>\n",
       "      <td>570</td>\n",
       "      <td>21.4</td>\n",
       "      <td>6.2</td>\n",
       "    </tr>\n",
       "    <tr>\n",
       "      <th>6</th>\n",
       "      <td>GLE Class</td>\n",
       "      <td>2018</td>\n",
       "      <td>30948</td>\n",
       "      <td>Automatic</td>\n",
       "      <td>16000</td>\n",
       "      <td>Diesel</td>\n",
       "      <td>145</td>\n",
       "      <td>47.9</td>\n",
       "      <td>2.1</td>\n",
       "    </tr>\n",
       "    <tr>\n",
       "      <th>7</th>\n",
       "      <td>S Class</td>\n",
       "      <td>2012</td>\n",
       "      <td>10948</td>\n",
       "      <td>Automatic</td>\n",
       "      <td>107000</td>\n",
       "      <td>Petrol</td>\n",
       "      <td>265</td>\n",
       "      <td>36.7</td>\n",
       "      <td>3.5</td>\n",
       "    </tr>\n",
       "    <tr>\n",
       "      <th>8</th>\n",
       "      <td>G Class</td>\n",
       "      <td>2019</td>\n",
       "      <td>139948</td>\n",
       "      <td>Automatic</td>\n",
       "      <td>12000</td>\n",
       "      <td>Petrol</td>\n",
       "      <td>145</td>\n",
       "      <td>21.4</td>\n",
       "      <td>4.0</td>\n",
       "    </tr>\n",
       "    <tr>\n",
       "      <th>9</th>\n",
       "      <td>GLA Class</td>\n",
       "      <td>2017</td>\n",
       "      <td>19750</td>\n",
       "      <td>Automatic</td>\n",
       "      <td>15258</td>\n",
       "      <td>Diesel</td>\n",
       "      <td>30</td>\n",
       "      <td>64.2</td>\n",
       "      <td>2.1</td>\n",
       "    </tr>\n",
       "  </tbody>\n",
       "</table>\n",
       "</div>"
      ],
      "text/plain": [
       "        model  year   price transmission  mileage fuelType  tax   mpg  \\\n",
       "0         SLK  2005    5200    Automatic    63000   Petrol  325  32.1   \n",
       "1     S Class  2017   34948    Automatic    27000   Hybrid   20  61.4   \n",
       "2    SL CLASS  2016   49948    Automatic     6200   Petrol  555  28.0   \n",
       "3     G Class  2016   61948    Automatic    16000   Petrol  325  30.4   \n",
       "4     G Class  2016   73948    Automatic     4000   Petrol  325  30.1   \n",
       "5    SL CLASS  2011  149948    Automatic     3000   Petrol  570  21.4   \n",
       "6   GLE Class  2018   30948    Automatic    16000   Diesel  145  47.9   \n",
       "7     S Class  2012   10948    Automatic   107000   Petrol  265  36.7   \n",
       "8     G Class  2019  139948    Automatic    12000   Petrol  145  21.4   \n",
       "9   GLA Class  2017   19750    Automatic    15258   Diesel   30  64.2   \n",
       "\n",
       "   engineSize  \n",
       "0         1.8  \n",
       "1         2.1  \n",
       "2         5.5  \n",
       "3         4.0  \n",
       "4         4.0  \n",
       "5         6.2  \n",
       "6         2.1  \n",
       "7         3.5  \n",
       "8         4.0  \n",
       "9         2.1  "
      ]
     },
     "execution_count": 2,
     "metadata": {},
     "output_type": "execute_result"
    }
   ],
   "source": [
    "df = pd.read_csv('../../Data/merc.csv')\n",
    "df.head(10)"
   ]
  },
  {
   "cell_type": "code",
   "execution_count": 3,
   "metadata": {},
   "outputs": [
    {
     "name": "stdout",
     "output_type": "stream",
     "text": [
      "<class 'pandas.core.frame.DataFrame'>\n",
      "RangeIndex: 13119 entries, 0 to 13118\n",
      "Data columns (total 9 columns):\n",
      " #   Column        Non-Null Count  Dtype  \n",
      "---  ------        --------------  -----  \n",
      " 0   model         13119 non-null  object \n",
      " 1   year          13119 non-null  int64  \n",
      " 2   price         13119 non-null  int64  \n",
      " 3   transmission  13119 non-null  object \n",
      " 4   mileage       13119 non-null  int64  \n",
      " 5   fuelType      13119 non-null  object \n",
      " 6   tax           13119 non-null  int64  \n",
      " 7   mpg           13119 non-null  float64\n",
      " 8   engineSize    13119 non-null  float64\n",
      "dtypes: float64(2), int64(4), object(3)\n",
      "memory usage: 922.6+ KB\n"
     ]
    }
   ],
   "source": [
    "df.info()"
   ]
  },
  {
   "cell_type": "code",
   "execution_count": 4,
   "metadata": {},
   "outputs": [
    {
     "data": {
      "text/html": [
       "<div>\n",
       "<style scoped>\n",
       "    .dataframe tbody tr th:only-of-type {\n",
       "        vertical-align: middle;\n",
       "    }\n",
       "\n",
       "    .dataframe tbody tr th {\n",
       "        vertical-align: top;\n",
       "    }\n",
       "\n",
       "    .dataframe thead th {\n",
       "        text-align: right;\n",
       "    }\n",
       "</style>\n",
       "<table border=\"1\" class=\"dataframe\">\n",
       "  <thead>\n",
       "    <tr style=\"text-align: right;\">\n",
       "      <th></th>\n",
       "      <th>year</th>\n",
       "      <th>price</th>\n",
       "      <th>mileage</th>\n",
       "      <th>tax</th>\n",
       "      <th>mpg</th>\n",
       "      <th>engineSize</th>\n",
       "    </tr>\n",
       "  </thead>\n",
       "  <tbody>\n",
       "    <tr>\n",
       "      <th>count</th>\n",
       "      <td>13119.000000</td>\n",
       "      <td>13119.000000</td>\n",
       "      <td>13119.000000</td>\n",
       "      <td>13119.000000</td>\n",
       "      <td>13119.000000</td>\n",
       "      <td>13119.000000</td>\n",
       "    </tr>\n",
       "    <tr>\n",
       "      <th>mean</th>\n",
       "      <td>2017.296288</td>\n",
       "      <td>24698.596920</td>\n",
       "      <td>21949.559037</td>\n",
       "      <td>129.972178</td>\n",
       "      <td>55.155843</td>\n",
       "      <td>2.071530</td>\n",
       "    </tr>\n",
       "    <tr>\n",
       "      <th>std</th>\n",
       "      <td>2.224709</td>\n",
       "      <td>11842.675542</td>\n",
       "      <td>21176.512267</td>\n",
       "      <td>65.260286</td>\n",
       "      <td>15.220082</td>\n",
       "      <td>0.572426</td>\n",
       "    </tr>\n",
       "    <tr>\n",
       "      <th>min</th>\n",
       "      <td>1970.000000</td>\n",
       "      <td>650.000000</td>\n",
       "      <td>1.000000</td>\n",
       "      <td>0.000000</td>\n",
       "      <td>1.100000</td>\n",
       "      <td>0.000000</td>\n",
       "    </tr>\n",
       "    <tr>\n",
       "      <th>25%</th>\n",
       "      <td>2016.000000</td>\n",
       "      <td>17450.000000</td>\n",
       "      <td>6097.500000</td>\n",
       "      <td>125.000000</td>\n",
       "      <td>45.600000</td>\n",
       "      <td>1.800000</td>\n",
       "    </tr>\n",
       "    <tr>\n",
       "      <th>50%</th>\n",
       "      <td>2018.000000</td>\n",
       "      <td>22480.000000</td>\n",
       "      <td>15189.000000</td>\n",
       "      <td>145.000000</td>\n",
       "      <td>56.500000</td>\n",
       "      <td>2.000000</td>\n",
       "    </tr>\n",
       "    <tr>\n",
       "      <th>75%</th>\n",
       "      <td>2019.000000</td>\n",
       "      <td>28980.000000</td>\n",
       "      <td>31779.500000</td>\n",
       "      <td>145.000000</td>\n",
       "      <td>64.200000</td>\n",
       "      <td>2.100000</td>\n",
       "    </tr>\n",
       "    <tr>\n",
       "      <th>max</th>\n",
       "      <td>2020.000000</td>\n",
       "      <td>159999.000000</td>\n",
       "      <td>259000.000000</td>\n",
       "      <td>580.000000</td>\n",
       "      <td>217.300000</td>\n",
       "      <td>6.200000</td>\n",
       "    </tr>\n",
       "  </tbody>\n",
       "</table>\n",
       "</div>"
      ],
      "text/plain": [
       "               year          price        mileage           tax           mpg  \\\n",
       "count  13119.000000   13119.000000   13119.000000  13119.000000  13119.000000   \n",
       "mean    2017.296288   24698.596920   21949.559037    129.972178     55.155843   \n",
       "std        2.224709   11842.675542   21176.512267     65.260286     15.220082   \n",
       "min     1970.000000     650.000000       1.000000      0.000000      1.100000   \n",
       "25%     2016.000000   17450.000000    6097.500000    125.000000     45.600000   \n",
       "50%     2018.000000   22480.000000   15189.000000    145.000000     56.500000   \n",
       "75%     2019.000000   28980.000000   31779.500000    145.000000     64.200000   \n",
       "max     2020.000000  159999.000000  259000.000000    580.000000    217.300000   \n",
       "\n",
       "         engineSize  \n",
       "count  13119.000000  \n",
       "mean       2.071530  \n",
       "std        0.572426  \n",
       "min        0.000000  \n",
       "25%        1.800000  \n",
       "50%        2.000000  \n",
       "75%        2.100000  \n",
       "max        6.200000  "
      ]
     },
     "execution_count": 4,
     "metadata": {},
     "output_type": "execute_result"
    }
   ],
   "source": [
    "df.describe()"
   ]
  },
  {
   "cell_type": "code",
   "execution_count": 5,
   "metadata": {},
   "outputs": [
    {
     "data": {
      "text/plain": [
       "(13119, 9)"
      ]
     },
     "execution_count": 5,
     "metadata": {},
     "output_type": "execute_result"
    }
   ],
   "source": [
    "# Returns the dimensions of the dataframe as (number of rows, number of columns)\n",
    "df.shape"
   ]
  },
  {
   "cell_type": "code",
   "execution_count": 6,
   "metadata": {},
   "outputs": [
    {
     "data": {
      "text/plain": [
       "Index(['model', 'year', 'price', 'transmission', 'mileage', 'fuelType', 'tax',\n",
       "       'mpg', 'engineSize'],\n",
       "      dtype='object')"
      ]
     },
     "execution_count": 6,
     "metadata": {},
     "output_type": "execute_result"
    }
   ],
   "source": [
    "# Returns an index object containing the col labels of the dataframe\n",
    "df.columns"
   ]
  },
  {
   "cell_type": "code",
   "execution_count": 7,
   "metadata": {},
   "outputs": [
    {
     "name": "stdout",
     "output_type": "stream",
     "text": [
      "Index(['model', 'year', 'price', 'transmission', 'mileage', 'fuel_type', 'tax',\n",
      "       'mpg', 'engine_size'],\n",
      "      dtype='object')\n"
     ]
    }
   ],
   "source": [
    "# Clean column names: make them lowercase and replace spaces with underscores\n",
    "df.columns = df.columns.str.replace(r'(?<!^)(?=[A-Z])', '_', regex=True).str.lower()\n",
    "\n",
    "# Check the updated column names\n",
    "print(df.columns)"
   ]
  },
  {
   "cell_type": "markdown",
   "metadata": {},
   "source": [
    "### Checking for Duplicate Values"
   ]
  },
  {
   "cell_type": "code",
   "execution_count": 8,
   "metadata": {},
   "outputs": [
    {
     "name": "stdout",
     "output_type": "stream",
     "text": [
      "Duplicates before dropping: 259\n"
     ]
    }
   ],
   "source": [
    "# Checking for duplicates\n",
    "duplicates_before = df.duplicated().sum()\n",
    "print(f'Duplicates before dropping: {duplicates_before}')"
   ]
  },
  {
   "cell_type": "code",
   "execution_count": 9,
   "metadata": {},
   "outputs": [],
   "source": [
    "# Dropping duplicates\n",
    "df.drop_duplicates(inplace=True)"
   ]
  },
  {
   "cell_type": "code",
   "execution_count": 10,
   "metadata": {},
   "outputs": [
    {
     "name": "stdout",
     "output_type": "stream",
     "text": [
      "Duplicates after dropping: 0\n"
     ]
    }
   ],
   "source": [
    "# No more duplicates!\n",
    "duplicates_after = df.duplicated().sum()\n",
    "print(f'Duplicates after dropping: {duplicates_after}')"
   ]
  },
  {
   "cell_type": "markdown",
   "metadata": {},
   "source": [
    "### Checking for Missing/Null Values"
   ]
  },
  {
   "cell_type": "code",
   "execution_count": 11,
   "metadata": {},
   "outputs": [
    {
     "data": {
      "text/plain": [
       "<Axes: >"
      ]
     },
     "execution_count": 11,
     "metadata": {},
     "output_type": "execute_result"
    },
    {
     "data": {
      "image/png": "[encoded data removed]",
      "text/plain": [
       "<Figure size 2500x1000 with 2 Axes>"
      ]
     },
     "metadata": {},
     "output_type": "display_data"
    }
   ],
   "source": [
    "# Show missing data\n",
    "mn.matrix(df)"
   ]
  },
  {
   "cell_type": "code",
   "execution_count": 12,
   "metadata": {},
   "outputs": [
    {
     "data": {
      "text/plain": [
       "model           0\n",
       "year            0\n",
       "price           0\n",
       "transmission    0\n",
       "mileage         0\n",
       "fuel_type       0\n",
       "tax             0\n",
       "mpg             0\n",
       "engine_size     0\n",
       "dtype: int64"
      ]
     },
     "execution_count": 12,
     "metadata": {},
     "output_type": "execute_result"
    }
   ],
   "source": [
    "# Checking for null values\n",
    "df.isnull().sum()"
   ]
  },
  {
   "cell_type": "code",
   "execution_count": 13,
   "metadata": {},
   "outputs": [
    {
     "name": "stdout",
     "output_type": "stream",
     "text": [
      "<class 'pandas.core.frame.DataFrame'>\n",
      "Index: 12860 entries, 0 to 13118\n",
      "Data columns (total 9 columns):\n",
      " #   Column        Non-Null Count  Dtype  \n",
      "---  ------        --------------  -----  \n",
      " 0   model         12860 non-null  object \n",
      " 1   year          12860 non-null  int64  \n",
      " 2   price         12860 non-null  int64  \n",
      " 3   transmission  12860 non-null  object \n",
      " 4   mileage       12860 non-null  int64  \n",
      " 5   fuel_type     12860 non-null  object \n",
      " 6   tax           12860 non-null  int64  \n",
      " 7   mpg           12860 non-null  float64\n",
      " 8   engine_size   12860 non-null  float64\n",
      "dtypes: float64(2), int64(4), object(3)\n",
      "memory usage: 1004.7+ KB\n"
     ]
    }
   ],
   "source": [
    "df.info()"
   ]
  },
  {
   "cell_type": "markdown",
   "metadata": {},
   "source": [
    "### Checking for Outliers"
   ]
  },
  {
   "cell_type": "code",
   "execution_count": 14,
   "metadata": {},
   "outputs": [
    {
     "data": {
      "text/html": [
       "<div>\n",
       "<style scoped>\n",
       "    .dataframe tbody tr th:only-of-type {\n",
       "        vertical-align: middle;\n",
       "    }\n",
       "\n",
       "    .dataframe tbody tr th {\n",
       "        vertical-align: top;\n",
       "    }\n",
       "\n",
       "    .dataframe thead th {\n",
       "        text-align: right;\n",
       "    }\n",
       "</style>\n",
       "<table border=\"1\" class=\"dataframe\">\n",
       "  <thead>\n",
       "    <tr style=\"text-align: right;\">\n",
       "      <th></th>\n",
       "      <th>year</th>\n",
       "      <th>price</th>\n",
       "      <th>mileage</th>\n",
       "      <th>tax</th>\n",
       "      <th>mpg</th>\n",
       "      <th>engine_size</th>\n",
       "    </tr>\n",
       "  </thead>\n",
       "  <tbody>\n",
       "    <tr>\n",
       "      <th>count</th>\n",
       "      <td>12860.000000</td>\n",
       "      <td>12860.000000</td>\n",
       "      <td>12860.000000</td>\n",
       "      <td>12860.000000</td>\n",
       "      <td>12860.000000</td>\n",
       "      <td>12860.000000</td>\n",
       "    </tr>\n",
       "    <tr>\n",
       "      <th>mean</th>\n",
       "      <td>2017.267963</td>\n",
       "      <td>24636.426361</td>\n",
       "      <td>22169.588336</td>\n",
       "      <td>129.843701</td>\n",
       "      <td>55.197535</td>\n",
       "      <td>2.075381</td>\n",
       "    </tr>\n",
       "    <tr>\n",
       "      <th>std</th>\n",
       "      <td>2.226127</td>\n",
       "      <td>11874.220447</td>\n",
       "      <td>21077.039295</td>\n",
       "      <td>65.580514</td>\n",
       "      <td>15.181133</td>\n",
       "      <td>0.573434</td>\n",
       "    </tr>\n",
       "    <tr>\n",
       "      <th>min</th>\n",
       "      <td>1970.000000</td>\n",
       "      <td>650.000000</td>\n",
       "      <td>1.000000</td>\n",
       "      <td>0.000000</td>\n",
       "      <td>1.100000</td>\n",
       "      <td>0.000000</td>\n",
       "    </tr>\n",
       "    <tr>\n",
       "      <th>25%</th>\n",
       "      <td>2016.000000</td>\n",
       "      <td>17309.750000</td>\n",
       "      <td>6494.000000</td>\n",
       "      <td>125.000000</td>\n",
       "      <td>45.600000</td>\n",
       "      <td>1.800000</td>\n",
       "    </tr>\n",
       "    <tr>\n",
       "      <th>50%</th>\n",
       "      <td>2018.000000</td>\n",
       "      <td>22299.000000</td>\n",
       "      <td>15448.500000</td>\n",
       "      <td>145.000000</td>\n",
       "      <td>56.500000</td>\n",
       "      <td>2.000000</td>\n",
       "    </tr>\n",
       "    <tr>\n",
       "      <th>75%</th>\n",
       "      <td>2019.000000</td>\n",
       "      <td>28971.250000</td>\n",
       "      <td>32000.000000</td>\n",
       "      <td>145.000000</td>\n",
       "      <td>64.200000</td>\n",
       "      <td>2.100000</td>\n",
       "    </tr>\n",
       "    <tr>\n",
       "      <th>max</th>\n",
       "      <td>2020.000000</td>\n",
       "      <td>159999.000000</td>\n",
       "      <td>259000.000000</td>\n",
       "      <td>580.000000</td>\n",
       "      <td>217.300000</td>\n",
       "      <td>6.200000</td>\n",
       "    </tr>\n",
       "  </tbody>\n",
       "</table>\n",
       "</div>"
      ],
      "text/plain": [
       "               year          price        mileage           tax           mpg  \\\n",
       "count  12860.000000   12860.000000   12860.000000  12860.000000  12860.000000   \n",
       "mean    2017.267963   24636.426361   22169.588336    129.843701     55.197535   \n",
       "std        2.226127   11874.220447   21077.039295     65.580514     15.181133   \n",
       "min     1970.000000     650.000000       1.000000      0.000000      1.100000   \n",
       "25%     2016.000000   17309.750000    6494.000000    125.000000     45.600000   \n",
       "50%     2018.000000   22299.000000   15448.500000    145.000000     56.500000   \n",
       "75%     2019.000000   28971.250000   32000.000000    145.000000     64.200000   \n",
       "max     2020.000000  159999.000000  259000.000000    580.000000    217.300000   \n",
       "\n",
       "        engine_size  \n",
       "count  12860.000000  \n",
       "mean       2.075381  \n",
       "std        0.573434  \n",
       "min        0.000000  \n",
       "25%        1.800000  \n",
       "50%        2.000000  \n",
       "75%        2.100000  \n",
       "max        6.200000  "
      ]
     },
     "execution_count": 14,
     "metadata": {},
     "output_type": "execute_result"
    }
   ],
   "source": [
    "# Checking For Outliers\n",
    "df.describe()"
   ]
  },
  {
   "cell_type": "code",
   "execution_count": 15,
   "metadata": {},
   "outputs": [],
   "source": [
    "# Defines upper and lower bounds for each column\n",
    "df = df[\n",
    "    (df['price'] >= 1000) & (df['price'] <= 60000) &         # Filter price between 1,000 and 60,000\n",
    "    (df['mileage'] <= 150000) &                              # Filter mileage below 150,000\n",
    "    (df['tax'] <= 300) &                                     # Filter tax below 300\n",
    "    (df['mpg'] >= 10) & (df['mpg'] <= 100) &                 # Filter mpg between 10 and 100\n",
    "    (df['engine_size'] > 0) & (df['engine_size'] <= 5)         # Filter engineSize between 0 and 5 liters\n",
    "]"
   ]
  },
  {
   "cell_type": "code",
   "execution_count": 16,
   "metadata": {},
   "outputs": [
    {
     "data": {
      "text/html": [
       "<div>\n",
       "<style scoped>\n",
       "    .dataframe tbody tr th:only-of-type {\n",
       "        vertical-align: middle;\n",
       "    }\n",
       "\n",
       "    .dataframe tbody tr th {\n",
       "        vertical-align: top;\n",
       "    }\n",
       "\n",
       "    .dataframe thead th {\n",
       "        text-align: right;\n",
       "    }\n",
       "</style>\n",
       "<table border=\"1\" class=\"dataframe\">\n",
       "  <thead>\n",
       "    <tr style=\"text-align: right;\">\n",
       "      <th></th>\n",
       "      <th>year</th>\n",
       "      <th>price</th>\n",
       "      <th>mileage</th>\n",
       "      <th>tax</th>\n",
       "      <th>mpg</th>\n",
       "      <th>engine_size</th>\n",
       "    </tr>\n",
       "  </thead>\n",
       "  <tbody>\n",
       "    <tr>\n",
       "      <th>count</th>\n",
       "      <td>12351.000000</td>\n",
       "      <td>12351.000000</td>\n",
       "      <td>12351.000000</td>\n",
       "      <td>12351.000000</td>\n",
       "      <td>12351.000000</td>\n",
       "      <td>12351.000000</td>\n",
       "    </tr>\n",
       "    <tr>\n",
       "      <th>mean</th>\n",
       "      <td>2017.353494</td>\n",
       "      <td>23891.015707</td>\n",
       "      <td>21743.589507</td>\n",
       "      <td>126.171160</td>\n",
       "      <td>55.067776</td>\n",
       "      <td>2.027107</td>\n",
       "    </tr>\n",
       "    <tr>\n",
       "      <th>std</th>\n",
       "      <td>1.953895</td>\n",
       "      <td>9455.640104</td>\n",
       "      <td>19996.533334</td>\n",
       "      <td>54.209434</td>\n",
       "      <td>11.558749</td>\n",
       "      <td>0.463277</td>\n",
       "    </tr>\n",
       "    <tr>\n",
       "      <th>min</th>\n",
       "      <td>1997.000000</td>\n",
       "      <td>1350.000000</td>\n",
       "      <td>1.000000</td>\n",
       "      <td>0.000000</td>\n",
       "      <td>24.600000</td>\n",
       "      <td>1.300000</td>\n",
       "    </tr>\n",
       "    <tr>\n",
       "      <th>25%</th>\n",
       "      <td>2016.000000</td>\n",
       "      <td>17299.000000</td>\n",
       "      <td>6620.500000</td>\n",
       "      <td>125.000000</td>\n",
       "      <td>46.300000</td>\n",
       "      <td>1.600000</td>\n",
       "    </tr>\n",
       "    <tr>\n",
       "      <th>50%</th>\n",
       "      <td>2018.000000</td>\n",
       "      <td>22156.000000</td>\n",
       "      <td>15329.000000</td>\n",
       "      <td>145.000000</td>\n",
       "      <td>56.500000</td>\n",
       "      <td>2.000000</td>\n",
       "    </tr>\n",
       "    <tr>\n",
       "      <th>75%</th>\n",
       "      <td>2019.000000</td>\n",
       "      <td>28480.000000</td>\n",
       "      <td>31549.000000</td>\n",
       "      <td>145.000000</td>\n",
       "      <td>64.200000</td>\n",
       "      <td>2.100000</td>\n",
       "    </tr>\n",
       "    <tr>\n",
       "      <th>max</th>\n",
       "      <td>2020.000000</td>\n",
       "      <td>59999.000000</td>\n",
       "      <td>150000.000000</td>\n",
       "      <td>300.000000</td>\n",
       "      <td>80.700000</td>\n",
       "      <td>4.700000</td>\n",
       "    </tr>\n",
       "  </tbody>\n",
       "</table>\n",
       "</div>"
      ],
      "text/plain": [
       "               year         price        mileage           tax           mpg  \\\n",
       "count  12351.000000  12351.000000   12351.000000  12351.000000  12351.000000   \n",
       "mean    2017.353494  23891.015707   21743.589507    126.171160     55.067776   \n",
       "std        1.953895   9455.640104   19996.533334     54.209434     11.558749   \n",
       "min     1997.000000   1350.000000       1.000000      0.000000     24.600000   \n",
       "25%     2016.000000  17299.000000    6620.500000    125.000000     46.300000   \n",
       "50%     2018.000000  22156.000000   15329.000000    145.000000     56.500000   \n",
       "75%     2019.000000  28480.000000   31549.000000    145.000000     64.200000   \n",
       "max     2020.000000  59999.000000  150000.000000    300.000000     80.700000   \n",
       "\n",
       "        engine_size  \n",
       "count  12351.000000  \n",
       "mean       2.027107  \n",
       "std        0.463277  \n",
       "min        1.300000  \n",
       "25%        1.600000  \n",
       "50%        2.000000  \n",
       "75%        2.100000  \n",
       "max        4.700000  "
      ]
     },
     "execution_count": 16,
     "metadata": {},
     "output_type": "execute_result"
    }
   ],
   "source": [
    "# Outliers Removed!\n",
    "df.describe()"
   ]
  },
  {
   "cell_type": "markdown",
   "metadata": {},
   "source": [
    "### Evaluation of Filtering Criteria\n",
    "\n",
    "**Objective**: The goal of the filtering criteria is to eliminate outliers that could skew the analysis and predictive modeling of car prices based on various attributes, such as price, mileage, and engine size.\n",
    "\n",
    "#### 1. **Price Filter**: \n",
    "   - **Criteria**: Price is filtered between €1,000 and €60,000.\n",
    "   - **Rationale**: \n",
    "     - **Lower Bound**: Setting a minimum price of €1,000 helps exclude listings that may be erroneous (e.g., missing data or extreme discounts).\n",
    "     - **Upper Bound**: The maximum price of €60,000 is aimed at excluding luxury and exotic cars that may not represent the typical market for used Mercedes vehicles. The mean price post-filtering is €23,891, indicating that the filtered dataset contains more reasonably priced vehicles.\n",
    "\n",
    "#### 2. **Mileage Filter**: \n",
    "   - **Criteria**: Mileage is capped at 150,000 km.\n",
    "   - **Rationale**: \n",
    "     - High mileage often indicates extensive use and potential wear, which could correlate negatively with price. By limiting mileage to a maximum of 150,000 km, the dataset now represents vehicles that are more commonly sold in the used car market, improving the relevance of the data for predictive modeling. The mean mileage remains within a practical range (21,743 km).\n",
    "\n",
    "#### 3. **Tax Filter**: \n",
    "   - **Criteria**: Tax is limited to a maximum of €300.\n",
    "   - **Rationale**: \n",
    "     - This upper bound ensures that extremely high taxes, which might apply to specialty vehicles or those with high emissions, are excluded. The average tax remains reasonable at €126, supporting the filtering effectiveness.\n",
    "\n",
    "#### 4. **MPG Filter**: \n",
    "   - **Criteria**: MPG is filtered between 10 and 100.\n",
    "   - **Rationale**: \n",
    "     - Setting a minimum of 10 MPG avoids extremely inefficient vehicles that may not be practical for buyers. The maximum of 100 MPG is a logical upper limit, as cars with exceptionally high MPG are often hybrids or very efficient models that may skew predictions. The mean MPG of 55.07 suggests that the dataset retains efficient vehicles.\n",
    "\n",
    "#### 5. **Engine Size Filter**: \n",
    "   - **Criteria**: Engine size is limited to between 0 and 5 liters.\n",
    "   - **Rationale**: \n",
    "     - This range encompasses the vast majority of passenger vehicles while excluding high-performance or commercial vehicles that fall outside the typical used car market. The mean engine size of 2.03 liters is consistent with average passenger vehicles.\n",
    "\n",
    "### Conclusion\n",
    "\n",
    "The filtering criteria employed appear to be effective in removing outliers and retaining a dataset that is representative of the used car market. The adjustments made through these criteria led to a more focused dataset, evidenced by reasonable means and ranges for each variable.\n"
   ]
  },
  {
   "cell_type": "code",
   "execution_count": 17,
   "metadata": {},
   "outputs": [],
   "source": [
    "# Resetting the index\n",
    "df = df.reset_index(drop=True)"
   ]
  },
  {
   "cell_type": "code",
   "execution_count": 18,
   "metadata": {},
   "outputs": [
    {
     "name": "stdout",
     "output_type": "stream",
     "text": [
      "<class 'pandas.core.frame.DataFrame'>\n",
      "RangeIndex: 12351 entries, 0 to 12350\n",
      "Data columns (total 9 columns):\n",
      " #   Column        Non-Null Count  Dtype  \n",
      "---  ------        --------------  -----  \n",
      " 0   model         12351 non-null  object \n",
      " 1   year          12351 non-null  int64  \n",
      " 2   price         12351 non-null  int64  \n",
      " 3   transmission  12351 non-null  object \n",
      " 4   mileage       12351 non-null  int64  \n",
      " 5   fuel_type     12351 non-null  object \n",
      " 6   tax           12351 non-null  int64  \n",
      " 7   mpg           12351 non-null  float64\n",
      " 8   engine_size   12351 non-null  float64\n",
      "dtypes: float64(2), int64(4), object(3)\n",
      "memory usage: 868.6+ KB\n"
     ]
    }
   ],
   "source": [
    "df.info()"
   ]
  },
  {
   "cell_type": "markdown",
   "metadata": {},
   "source": [
    "### Visualizations for Categorical Attributes"
   ]
  },
  {
   "cell_type": "markdown",
   "metadata": {},
   "source": [
    "#### Transmission"
   ]
  },
  {
   "cell_type": "code",
   "execution_count": 19,
   "metadata": {},
   "outputs": [
    {
     "data": {
      "image/png": "[encoded data removed]",
      "text/plain": [
       "<Figure size 1000x600 with 1 Axes>"
      ]
     },
     "metadata": {},
     "output_type": "display_data"
    }
   ],
   "source": [
    "# Set a Seaborn style\n",
    "sns.set(style=\"whitegrid\")\n",
    "\n",
    "# Define colors\n",
    "colors = ['#1E90FF', '#00CED1', '#20B2AA', '#3CB371', '#4682B4', '#5F9EA0', '#87CEEB', '#00BFFF']\n",
    "transmission_counts = df.transmission.value_counts()\n",
    "\n",
    "# Filter out categories with zero counts (if any)\n",
    "transmission_counts = transmission_counts[transmission_counts > 0]\n",
    "\n",
    "# Calculate percentages\n",
    "percentages = 100 * transmission_counts / transmission_counts.sum()\n",
    "\n",
    "# Create labels with percentages, hiding those below 1%\n",
    "labels = []\n",
    "for label, pct in zip(transmission_counts.index, percentages):\n",
    "    if pct < 1:\n",
    "        labels.append(\"\")  # Set empty for small percentages\n",
    "    else:\n",
    "        labels.append(f\"{label} ({pct:.1f}%)\")\n",
    "\n",
    "# Create the figure and axis\n",
    "fig, ax = plt.subplots(figsize=(10, 6))\n",
    "\n",
    "# Create the pie chart\n",
    "wedges, texts = ax.pie(transmission_counts, \n",
    "                        labels=labels, \n",
    "                        startangle=90, \n",
    "                        colors=colors[:len(transmission_counts)],\n",
    "                        wedgeprops=dict(edgecolor='black', alpha=0.9))\n",
    "\n",
    "# Style the text labels\n",
    "for text in texts:\n",
    "    text.set_fontsize(14)\n",
    "    text.set_color('black')\n",
    "\n",
    "# Set the title\n",
    "plt.title('Distribution of Transmission Type', fontsize=25, fontweight='bold', color='black', pad=20)\n",
    "\n",
    "# Optional: Customize the figure background color\n",
    "fig.patch.set_facecolor('#f6f5f5')\n",
    "\n",
    "# Display the pie chart\n",
    "plt.show()"
   ]
  },
  {
   "cell_type": "markdown",
   "metadata": {},
   "source": [
    "#### Model"
   ]
  },
  {
   "cell_type": "code",
   "execution_count": 20,
   "metadata": {},
   "outputs": [
    {
     "data": {
      "image/png": "[encoded data removed]",
      "text/plain": [
       "<Figure size 1200x800 with 1 Axes>"
      ]
     },
     "metadata": {},
     "output_type": "display_data"
    }
   ],
   "source": [
    "# Set a Seaborn style\n",
    "sns.set(style=\"whitegrid\")\n",
    "\n",
    "# Get counts for all models\n",
    "model_counts = df.model.value_counts()\n",
    "total_counts = model_counts.sum()\n",
    "\n",
    "# Calculate percentages\n",
    "percentages = (model_counts / total_counts) * 100\n",
    "\n",
    "# Create the figure and axis\n",
    "fig, ax = plt.subplots(figsize=(12, 8))\n",
    "\n",
    "# Determine colors: unique colors for the top three percentages, grey for the rest\n",
    "colors = ['#1E90FF', '#00CED1', '#20B2AA']  # Distinct colors for the top three\n",
    "grey_color = '#c4c4c4'  # Grey for the rest\n",
    "bar_colors = [grey_color] * len(percentages)\n",
    "\n",
    "# Get indices of the top three models\n",
    "top_three_indices = percentages.nlargest(3).index\n",
    "for i in range(len(percentages)):\n",
    "    if percentages.index[i] in top_three_indices:\n",
    "        bar_colors[i] = colors.pop(0)  # Assign a distinct color\n",
    "\n",
    "# Create vertical bars\n",
    "bars = ax.bar(percentages.index, percentages.values, color=bar_colors, alpha=0.9, edgecolor='black')\n",
    "\n",
    "# Add annotations for the percentage labels on top of the bars\n",
    "for bar in bars:\n",
    "    height = bar.get_height()\n",
    "    ax.text(bar.get_x() + bar.get_width() / 2, height + 1, f'{height:.1f}%', \n",
    "            ha='center', fontsize=10, fontweight='bold', color='black')  # Set fontsize to 10\n",
    "\n",
    "# Set the title\n",
    "plt.title('Distribution of Car Models (Percentage)', fontsize=25, fontweight='bold', color='black', pad=20)\n",
    "\n",
    "# Customize the axes\n",
    "ax.set_xlabel('Car Models', fontsize=14)\n",
    "ax.set_ylabel('Percentage (%)', fontsize=14)\n",
    "\n",
    "# Rotate x-tick labels to vertical for better alignment\n",
    "plt.xticks(rotation=90, ha='center', fontsize=12)  # Set rotation to 90 for vertical\n",
    "\n",
    "# Optional: Customize the figure background color\n",
    "fig.patch.set_facecolor('#f6f5f5')\n",
    "ax.set_facecolor('#f6f5f5')\n",
    "\n",
    "# Add gridlines for better readability\n",
    "ax.yaxis.grid(True, which='both', linestyle='--', linewidth=0.7, color='gray')\n",
    "\n",
    "# Hide the spines for a cleaner look\n",
    "ax.spines['top'].set_visible(False)\n",
    "ax.spines['right'].set_visible(False)\n",
    "\n",
    "plt.show()"
   ]
  },
  {
   "cell_type": "markdown",
   "metadata": {},
   "source": [
    "#### Engine Size"
   ]
  },
  {
   "cell_type": "code",
   "execution_count": 21,
   "metadata": {},
   "outputs": [
    {
     "data": {
      "image/png": "[encoded data removed]",
      "text/plain": [
       "<Figure size 1000x600 with 1 Axes>"
      ]
     },
     "metadata": {},
     "output_type": "display_data"
    }
   ],
   "source": [
    "# Set a Seaborn style\n",
    "sns.set(style=\"whitegrid\")\n",
    "\n",
    "# Define a cooler color palette\n",
    "colors = ['#1E90FF', '#00CED1', '#20B2AA'] + ['#c4c4c4'] * 5  # Grey for the rest\n",
    "\n",
    "# Get counts for fuel types\n",
    "fuel_counts = df.fuel_type.value_counts()\n",
    "\n",
    "# Calculate percentages\n",
    "fuel_percentages = (fuel_counts / fuel_counts.sum()) * 100\n",
    "\n",
    "# Create the figure and axis\n",
    "fig, ax = plt.subplots(figsize=(10, 6))\n",
    "\n",
    "# Create vertical bars\n",
    "bars = ax.bar(fuel_percentages.index, fuel_percentages.values, color=colors[:len(fuel_percentages)], alpha=0.9, edgecolor='black')\n",
    "\n",
    "# Add annotations for the percentage labels\n",
    "for bar in bars:\n",
    "    height = bar.get_height()\n",
    "    ax.text(bar.get_x() + bar.get_width() / 2, height + 1, f'{height:.1f}%', \n",
    "            ha='center', va='bottom', fontsize=12, fontweight='bold', color='black')\n",
    "\n",
    "# Set the title\n",
    "plt.title('Distribution of Fuel Types', fontsize=25, fontweight='bold', color='black', pad=20)\n",
    "\n",
    "# Customize the x and y axis\n",
    "ax.set_ylabel('Percentage (%)', fontsize=14)\n",
    "ax.set_xlabel('Fuel Type', fontsize=14)\n",
    "\n",
    "# Optional: Customize the figure background color\n",
    "fig.patch.set_facecolor('#f6f5f5')\n",
    "ax.set_facecolor('#f6f5f5')\n",
    "\n",
    "# Add gridlines for better readability\n",
    "ax.yaxis.grid(True, which='both', linestyle='--', linewidth=0.7, color='gray')\n",
    "\n",
    "# Hide the spines for a cleaner look\n",
    "ax.spines['top'].set_visible(False)\n",
    "ax.spines['right'].set_visible(False)\n",
    "\n",
    "# Rotate the x labels to be vertical\n",
    "plt.xticks(rotation=90)\n",
    "\n",
    "plt.show()"
   ]
  },
  {
   "cell_type": "markdown",
   "metadata": {},
   "source": [
    "### Visualizations for Numerical Attributes"
   ]
  },
  {
   "cell_type": "code",
   "execution_count": 22,
   "metadata": {},
   "outputs": [
    {
     "data": {
      "image/png": "[encoded data removed]",
      "text/plain": [
       "<Figure size 1500x600 with 6 Axes>"
      ]
     },
     "metadata": {},
     "output_type": "display_data"
    }
   ],
   "source": [
    "# Set up the figure\n",
    "fig = plt.figure(figsize=(15, 6))\n",
    "fig.patch.set_facecolor('#f5f6f6')\n",
    "\n",
    "# Create a grid for the subplots\n",
    "gs = fig.add_gridspec(2, 3)\n",
    "gs.update(wspace=0.2, hspace=0.2)\n",
    "\n",
    "# Create subplots\n",
    "ax0 = fig.add_subplot(gs[0, 0])\n",
    "ax1 = fig.add_subplot(gs[0, 1])\n",
    "ax2 = fig.add_subplot(gs[0, 2])\n",
    "ax3 = fig.add_subplot(gs[1, 0])\n",
    "ax4 = fig.add_subplot(gs[1, 1])\n",
    "ax5 = fig.add_subplot(gs[1, 2])\n",
    "\n",
    "axes = [ax0, ax1, ax2, ax3, ax4, ax5]\n",
    "for ax in axes:\n",
    "    ax.set_facecolor('#f5f6f6')\n",
    "    ax.tick_params(axis='x', labelsize=12, which='major', direction='out', pad=2, length=1.5)\n",
    "    ax.tick_params(axis='y', colors='black')\n",
    "    ax.axes.get_yaxis().set_visible(False)\n",
    "\n",
    "    for loc in ['left', 'right', 'top', 'bottom']:\n",
    "        ax.spines[loc].set_visible(False)\n",
    "\n",
    "# Select numerical columns\n",
    "cols = df.select_dtypes(exclude='object').columns\n",
    "\n",
    "# Plot KDE for each numerical attribute\n",
    "sns.kdeplot(x=df[cols[0]], color=\"green\", fill=True, ax=ax0)\n",
    "sns.kdeplot(x=df[cols[1]], color=\"red\", fill=True, ax=ax1)\n",
    "sns.kdeplot(x=df[cols[2]], color=\"blue\", fill=True, ax=ax2)\n",
    "sns.kdeplot(x=df[cols[3]], color=\"black\", fill=True, ax=ax3)\n",
    "sns.kdeplot(x=df[cols[4]], color=\"pink\", fill=True, ax=ax4)\n",
    "sns.kdeplot(x=df[cols[5]], color=\"orange\", fill=True, ax=ax5)\n",
    "\n",
    "# Add titles and texts\n",
    "fig.text(0.2, 0.98, \"KDE Visualizations on Numerical Attributes:\", **{'font': 'serif', 'size': 18, 'weight': 'bold'}, alpha=1)\n",
    "\n",
    "plt.show()"
   ]
  },
  {
   "cell_type": "markdown",
   "metadata": {},
   "source": [
    "#### Preparation (4 points total)\n",
    "- [1 points] Define and prepare your class variables. Use proper variable representations (int, float, one-hot, etc.). Use pre-processing methods (as needed) for dimensionality reduction, scaling, etc. Remove variables that are not needed/useful for the analysis. Describe the final dataset that is used for classification/regression (include a description of any newly formed variables you created). You have the option of using tf.dataset for processing, but it is not required. \n"
   ]
  },
  {
   "cell_type": "markdown",
   "metadata": {},
   "source": [
    "### Encoding the Target Attribute: `price`"
   ]
  },
  {
   "cell_type": "code",
   "execution_count": 23,
   "metadata": {},
   "outputs": [
    {
     "name": "stdout",
     "output_type": "stream",
     "text": [
      "Encoded 'price' values:\n",
      "[3 1 2 5 0 4]\n",
      "\n",
      "Price Category Encoding Mapping: {'Budget': 0, 'Affordable': 1, 'Mid-Range': 2, 'High-End': 3, 'Premium': 4, 'Luxury': 5}\n"
     ]
    }
   ],
   "source": [
    "# Define bins and labels\n",
    "bins = [0, 10000, 20000, 30000, 40000, 50000, df['price'].max()]\n",
    "labels = ['Budget', 'Affordable', 'Mid-Range', 'High-End', 'Premium', 'Luxury']\n",
    "\n",
    "# Use pd.cut to bin the 'price' and assign categories with an explicit order\n",
    "df['price'] = pd.cut(df['price'], bins=bins, labels=labels, include_lowest=True)\n",
    "\n",
    "# Explicitly define the order of the categories\n",
    "ordered_labels = pd.Categorical(df['price'], categories=labels, ordered=True)\n",
    "\n",
    "# Assign the ordered categories back to the 'price' column\n",
    "df['price'] = ordered_labels\n",
    "\n",
    "# Now, manually encode the categories as integers\n",
    "df['price_encoded'] = df['price'].cat.codes\n",
    "\n",
    "# Check the unique values in the encoded 'price' column\n",
    "print(\"Encoded 'price' values:\")\n",
    "print(df['price_encoded'].unique())\n",
    "\n",
    "# Check the mapping of the labels to the encoded values\n",
    "price_mapping = dict(zip(df['price'].cat.categories, range(len(df['price'].cat.categories))))\n",
    "print(\"\\nPrice Category Encoding Mapping:\", price_mapping)\n"
   ]
  },
  {
   "cell_type": "code",
   "execution_count": 24,
   "metadata": {},
   "outputs": [
    {
     "data": {
      "image/png": "[encoded data removed]",
      "text/plain": [
       "<Figure size 1000x600 with 1 Axes>"
      ]
     },
     "metadata": {},
     "output_type": "display_data"
    }
   ],
   "source": [
    "# Get the counts of the encoded 'price' values\n",
    "price_category_counts = df['price_encoded'].value_counts(normalize=True) * 100  # Normalize to get percentages\n",
    "\n",
    "# Get the labels corresponding to the numeric encoding\n",
    "price_labels = df['price'].cat.categories  # Get the price categories\n",
    "\n",
    "# Sort the price_category_counts so it matches the order of price_labels\n",
    "price_category_counts = price_category_counts.sort_index()  # Sort by index to match the category order\n",
    "\n",
    "# Plot a bar chart\n",
    "plt.figure(figsize=(10, 6))\n",
    "price_category_counts.plot(kind='bar', color='skyblue', edgecolor='black')\n",
    "\n",
    "# Add labels and title\n",
    "plt.title('Percentage Distribution of Price Categories', fontsize=18)\n",
    "plt.xlabel('Price Category', fontsize=14)\n",
    "plt.ylabel('Percentage (%)', fontsize=14)\n",
    "\n",
    "# Set the x-ticks to the correct category labels\n",
    "plt.xticks(ticks=range(len(price_labels)), labels=price_labels, rotation=45)\n",
    "\n",
    "# Show percentage values on each bar\n",
    "for index, value in enumerate(price_category_counts):\n",
    "    plt.text(index, value + 0.5, f'{value:.1f}%', ha='center', va='bottom', fontsize=12, fontweight='bold')\n",
    "\n",
    "# Display the plot\n",
    "plt.tight_layout()\n",
    "plt.show()\n"
   ]
  },
  {
   "cell_type": "markdown",
   "metadata": {},
   "source": [
    "### Encoding Categorical Attributes"
   ]
  },
  {
   "cell_type": "markdown",
   "metadata": {},
   "source": [
    "#### Model"
   ]
  },
  {
   "cell_type": "code",
   "execution_count": 25,
   "metadata": {},
   "outputs": [
    {
     "name": "stdout",
     "output_type": "stream",
     "text": [
      "\n",
      "Model Encoding Mapping: {'180': 0, '200': 1, '220': 2, 'A Class': 3, 'B Class': 4, 'C Class': 5, 'CL Class': 6, 'CLA Class': 7, 'CLC Class': 8, 'CLK': 9, 'CLS Class': 10, 'E Class': 11, 'GL Class': 12, 'GLA Class': 13, 'GLB Class': 14, 'GLC Class': 15, 'GLE Class': 16, 'GLS Class': 17, 'M Class': 18, 'S Class': 19, 'SL CLASS': 20, 'SLK': 21, 'V Class': 22, 'X-CLASS': 23}\n"
     ]
    }
   ],
   "source": [
    "# Remove leading and trailing spaces from the 'model' column\n",
    "df['model'] = df['model'].str.strip()\n",
    "\n",
    "# Sort the categories alphabetically\n",
    "sorted_labels = sorted(df['model'].unique())\n",
    "\n",
    "# Create a Categorical type with sorted categories\n",
    "df['model'] = pd.Categorical(df['model'], categories=sorted_labels, ordered=True)\n",
    "\n",
    "# Encode the 'model' column\n",
    "df['model_encoded'] = df['model'].cat.codes\n",
    "\n",
    "# Check the mapping of the labels to the encoded values\n",
    "model_mapping = dict(zip(df['model'].cat.categories, range(len(df['model'].cat.categories))))\n",
    "print(\"\\nModel Encoding Mapping:\", model_mapping)\n"
   ]
  },
  {
   "cell_type": "markdown",
   "metadata": {},
   "source": [
    "#### Transmission"
   ]
  },
  {
   "cell_type": "code",
   "execution_count": 26,
   "metadata": {},
   "outputs": [
    {
     "name": "stdout",
     "output_type": "stream",
     "text": [
      "Encoded 'transmission' values:\n",
      "[0 1 3 2]\n",
      "\n",
      "Transmission Encoding Mapping: {'Automatic': 0, 'Manual': 1, 'Other': 2, 'Semi-Auto': 3}\n"
     ]
    }
   ],
   "source": [
    "# Create a Categorical type with the unique transmission values in the original order\n",
    "df['transmission'] = pd.Categorical(df['transmission'], ordered=True)\n",
    "\n",
    "# Encode the 'transmission' column\n",
    "df['transmission_encoded'] = df['transmission'].cat.codes\n",
    "\n",
    "# Check the unique encoded 'transmission' values\n",
    "print(\"Encoded 'transmission' values:\")\n",
    "print(df['transmission_encoded'].unique())\n",
    "\n",
    "# Check the mapping of the labels to the encoded values\n",
    "transmission_mapping = dict(zip(df['transmission'].cat.categories, range(len(df['transmission'].cat.categories))))\n",
    "print(\"\\nTransmission Encoding Mapping:\", transmission_mapping)\n"
   ]
  },
  {
   "cell_type": "markdown",
   "metadata": {},
   "source": [
    "#### Fuel Type"
   ]
  },
  {
   "cell_type": "code",
   "execution_count": 27,
   "metadata": {},
   "outputs": [
    {
     "name": "stdout",
     "output_type": "stream",
     "text": [
      "\n",
      "Fuel Type Encoding Mapping: {'Diesel': 0, 'Hybrid': 1, 'Other': 2, 'Petrol': 3}\n"
     ]
    }
   ],
   "source": [
    "# Create a Categorical type with the unique fuel types in the original order\n",
    "df['fuel_type'] = pd.Categorical(df['fuel_type'], ordered=True)\n",
    "\n",
    "# Encode the 'fuel_type' column\n",
    "df['fuel_type_encoded'] = df['fuel_type'].cat.codes\n",
    "\n",
    "\n",
    "# Check the mapping of the labels to the encoded values\n",
    "fuel_type_mapping = dict(zip(df['fuel_type'].cat.categories, range(len(df['fuel_type'].cat.categories))))\n",
    "print(\"\\nFuel Type Encoding Mapping:\", fuel_type_mapping)"
   ]
  },
  {
   "cell_type": "markdown",
   "metadata": {},
   "source": [
    "### Encoding Numerical Attributes"
   ]
  },
  {
   "cell_type": "markdown",
   "metadata": {},
   "source": [
    "#### MPG"
   ]
  },
  {
   "cell_type": "code",
   "execution_count": 28,
   "metadata": {},
   "outputs": [
    {
     "name": "stdout",
     "output_type": "stream",
     "text": [
      "Minimum mpg value: 24.6\n",
      "Maximum mpg value: 80.7\n",
      "mpg_binned\n",
      "Very High    3846\n",
      "High         2953\n",
      "Excellent    2869\n",
      "Medium       1924\n",
      "Low           674\n",
      "Top Tier       83\n",
      "Very Low        2\n",
      "Name: count, dtype: int64\n",
      "\n",
      "MPG Encoding Mapping: {'Very Low': 0, 'Low': 1, 'Medium': 2, 'High': 3, 'Very High': 4, 'Excellent': 5, 'Top Tier': 6}\n",
      "mpg_encoded\n",
      "4    3846\n",
      "3    2953\n",
      "5    2869\n",
      "2    1924\n",
      "1     674\n",
      "6      83\n",
      "0       2\n",
      "Name: count, dtype: int64\n"
     ]
    }
   ],
   "source": [
    "# Check the range of 'mpg' values\n",
    "print(\"Minimum mpg value:\", df['mpg'].min())\n",
    "print(\"Maximum mpg value:\", df['mpg'].max())\n",
    "\n",
    "# Define new bin edges that cover the entire range of 'mpg' values\n",
    "bins = [0, 25, 35, 45, 55, 65, 75, 85]  # Adjust these based on the actual range\n",
    "labels = ['Very Low', 'Low', 'Medium', 'High', 'Very High', 'Excellent', 'Top Tier']\n",
    "\n",
    "# Create a new column in the DataFrame for the binned mpg values\n",
    "df['mpg_binned'] = pd.cut(df['mpg'], bins=bins, labels=labels, right=False)\n",
    "\n",
    "# Check the distribution after binning\n",
    "print(df['mpg_binned'].value_counts(dropna=False))\n",
    "\n",
    "# Define ordered categories and encode them\n",
    "df['mpg_binned'] = pd.Categorical(df['mpg_binned'], categories=labels, ordered=True)\n",
    "df['mpg_encoded'] = df['mpg_binned'].cat.codes  # -1 will appear if there are values outside the bins\n",
    "\n",
    "# Check the unique encoded 'mpg' values and their mapping\n",
    "mpg_mapping = dict(zip(df['mpg_binned'].cat.categories, range(len(df['mpg_binned'].cat.categories))))\n",
    "print(\"\\nMPG Encoding Mapping:\", mpg_mapping)\n",
    "\n",
    "# Display the encoded values distribution\n",
    "print(df['mpg_encoded'].value_counts())\n"
   ]
  },
  {
   "cell_type": "markdown",
   "metadata": {},
   "source": [
    "#### Year"
   ]
  },
  {
   "cell_type": "code",
   "execution_count": 29,
   "metadata": {},
   "outputs": [
    {
     "name": "stdout",
     "output_type": "stream",
     "text": [
      "year_binned\n",
      "2010s    11717\n",
      "2020s      586\n",
      "2000s       43\n",
      "1990s        5\n",
      "Name: count, dtype: int64\n",
      "\n",
      "Year Encoding Mapping: {'1990s': 0, '2000s': 1, '2010s': 2, '2020s': 3}\n",
      "year_encoded\n",
      "2    11717\n",
      "3      586\n",
      "1       43\n",
      "0        5\n",
      "Name: count, dtype: int64\n"
     ]
    }
   ],
   "source": [
    "# Define bins and labels for decades\n",
    "year_bins = [1990, 2000, 2010, 2020, 2030]  # Adjusted to cover the full range of years\n",
    "year_labels = ['1990s', '2000s', '2010s', '2020s']\n",
    "\n",
    "# Create a new column in the DataFrame for the binned year values\n",
    "df['year_binned'] = pd.cut(df['year'], bins=year_bins, labels=year_labels, right=False)\n",
    "\n",
    "# Check the distribution after binning\n",
    "print(df['year_binned'].value_counts(dropna=False))\n",
    "\n",
    "# Define ordered categories and encode them\n",
    "df['year_binned'] = pd.Categorical(df['year_binned'], categories=year_labels, ordered=True)\n",
    "df['year_encoded'] = df['year_binned'].cat.codes  # -1 will appear if there are values outside the bins\n",
    "\n",
    "# Check the unique encoded year values and their mapping\n",
    "year_mapping = dict(zip(df['year_binned'].cat.categories, range(len(df['year_binned'].cat.categories))))\n",
    "print(\"\\nYear Encoding Mapping:\", year_mapping)\n",
    "\n",
    "# Display the encoded values distribution\n",
    "print(df['year_encoded'].value_counts())\n"
   ]
  },
  {
   "cell_type": "markdown",
   "metadata": {},
   "source": [
    "#### Engine Size"
   ]
  },
  {
   "cell_type": "code",
   "execution_count": 30,
   "metadata": {},
   "outputs": [],
   "source": [
    "scaler = StandardScaler()\n",
    "df['engine_size_scaled'] = scaler.fit_transform(df[['engine_size']])"
   ]
  },
  {
   "cell_type": "markdown",
   "metadata": {},
   "source": [
    "#### Tax"
   ]
  },
  {
   "cell_type": "code",
   "execution_count": 31,
   "metadata": {},
   "outputs": [
    {
     "name": "stdout",
     "output_type": "stream",
     "text": [
      "\n",
      "tax Encoding Mapping: {'Very Low': 0, 'Low': 1, 'Medium': 2, 'High': 3, 'Very High': 4}\n",
      "tax_encoded\n",
      "2    8300\n",
      "0    2298\n",
      "3    1499\n",
      "4     254\n",
      "Name: count, dtype: int64\n"
     ]
    }
   ],
   "source": [
    "# Adjust bin edges and labels to ensure coverage of all values\n",
    "tax_bins = [0, 50, 100, 150, 250, 301]  # Adjust as needed to cover the entire range\n",
    "tax_labels = ['Very Low', 'Low', 'Medium', 'High', 'Very High']\n",
    "\n",
    "# Apply binning with adjusted bins\n",
    "df['tax_binned'] = pd.cut(df['tax'], bins=tax_bins, labels=tax_labels, right=False)\n",
    "\n",
    "# Re-encode the binned values\n",
    "df['tax_binned'] = pd.Categorical(df['tax_binned'], categories=tax_labels, ordered=True)\n",
    "df['tax_encoded'] = df['tax_binned'].cat.codes\n",
    "\n",
    "# Check the unique encoded tax values and their mapping\n",
    "tax_mapping = dict(zip(df['tax_binned'].cat.categories, range(len(df['tax_binned'].cat.categories))))\n",
    "print(\"\\ntax Encoding Mapping:\", tax_mapping)\n",
    "\n",
    "# Check the distribution of 'tax_encoded' after binning and encoding\n",
    "print(df['tax_encoded'].value_counts())"
   ]
  },
  {
   "cell_type": "markdown",
   "metadata": {},
   "source": [
    "#### Mileage"
   ]
  },
  {
   "cell_type": "code",
   "execution_count": 32,
   "metadata": {},
   "outputs": [],
   "source": [
    "scaler = StandardScaler()\n",
    "df['mileage_scaled'] = scaler.fit_transform(df[['mileage']])"
   ]
  },
  {
   "cell_type": "code",
   "execution_count": 33,
   "metadata": {},
   "outputs": [],
   "source": [
    "# Dropping Attributes that were Encoded\n",
    "df = df.drop(columns=['price', 'model', 'transmission', 'fuel_type', 'mpg', 'mpg_binned', 'year', 'year_binned', 'engine_size','tax','tax_binned', 'mileage'])"
   ]
  },
  {
   "cell_type": "markdown",
   "metadata": {},
   "source": [
    "### Preprocessing Summary:\n",
    "\n",
    "1. **Original Data**:\n",
    "    - The original dataset contains a mix of categorical and numerical columns, including: `model`, `year`, `price`, `transmission`, `mileage`, `fuelType`, `tax`, `mpg`, and `engineSize`.\n",
    "    - Categorical columns: `model`, `transmission`, `fuelType`.\n",
    "    - Numerical columns: `price`, `mileage`, `tax`, `mpg`, `engineSize`, `year`.\n",
    "\n",
    "2. **Transformations and Adjustments**:\n",
    "    - **Encoding Categorical Variables**:\n",
    "        - The `model` column was encoded using integer labels representing different car models.\n",
    "        - The `transmission` column was encoded as 0 for automatic and 1 for manual transmissions.\n",
    "        - The `fuelType` column was encoded with integers for different types of fuel, such as Petrol, Diesel, and Hybrid.\n",
    "        - The `mpg` (miles per gallon) values were binned into categories like \"Very Low\", \"Low\", and so on, and subsequently encoded as integers for compatibility with machine learning models.\n",
    "    - **Handling Numerical Features**:\n",
    "        - Numerical features like `price`, `year`, `mileage`, `tax`, and `engineSize` were either binned or scaled for better use in modeling.\n",
    "        - **Binning**: The `year` column was grouped into decades (e.g., 2010-2019) and encoded as numbers.\n",
    "        - **Scaling**: Standard scaling was applied to `engineSize` and `mileage` due to their wide range of values.\n",
    "        - **Encoding Tax**: The `tax` column was grouped into categories (e.g., \"Very Low\", \"Low\"), then encoded into numerical values.\n",
    "\n",
    "3. **Scaled Values**:\n",
    "    - For the `engine_size_scaled` feature, standard scaling was applied to `engineSize` so that it has a mean of 0 and a standard deviation of 1.\n",
    "    - Similarly, `mileage` was scaled to ensure it is on the same scale as other numerical features, improving compatibility with the machine learning models.\n",
    "\n",
    "4. **Encoded Variables**:\n",
    "    - The `price_encoded` variable was created by encoding the `price` values into different ranges, such as \"Low\", \"Medium\", and \"High\".\n",
    "    - The categorical columns (`model_encoded`, `transmission_encoded`, `fuel_type_encoded`, `mpg_encoded`, `tax_encoded`) were all encoded into numerical values for model input.\n"
   ]
  },
  {
   "cell_type": "markdown",
   "metadata": {},
   "source": [
    "#### Preprocessed Dataframe"
   ]
  },
  {
   "cell_type": "code",
   "execution_count": 34,
   "metadata": {},
   "outputs": [],
   "source": [
    "df_preprocessed = df.copy()"
   ]
  },
  {
   "cell_type": "code",
   "execution_count": 35,
   "metadata": {},
   "outputs": [
    {
     "name": "stdout",
     "output_type": "stream",
     "text": [
      "<class 'pandas.core.frame.DataFrame'>\n",
      "RangeIndex: 12351 entries, 0 to 12350\n",
      "Data columns (total 9 columns):\n",
      " #   Column                Non-Null Count  Dtype  \n",
      "---  ------                --------------  -----  \n",
      " 0   price_encoded         12351 non-null  int8   \n",
      " 1   model_encoded         12351 non-null  int8   \n",
      " 2   transmission_encoded  12351 non-null  int8   \n",
      " 3   fuel_type_encoded     12351 non-null  int8   \n",
      " 4   mpg_encoded           12351 non-null  int8   \n",
      " 5   year_encoded          12351 non-null  int8   \n",
      " 6   engine_size_scaled    12351 non-null  float64\n",
      " 7   tax_encoded           12351 non-null  int8   \n",
      " 8   mileage_scaled        12351 non-null  float64\n",
      "dtypes: float64(2), int8(7)\n",
      "memory usage: 277.5 KB\n"
     ]
    }
   ],
   "source": [
    "df_preprocessed.info()"
   ]
  },
  {
   "cell_type": "code",
   "execution_count": 36,
   "metadata": {},
   "outputs": [
    {
     "data": {
      "text/html": [
       "<div>\n",
       "<style scoped>\n",
       "    .dataframe tbody tr th:only-of-type {\n",
       "        vertical-align: middle;\n",
       "    }\n",
       "\n",
       "    .dataframe tbody tr th {\n",
       "        vertical-align: top;\n",
       "    }\n",
       "\n",
       "    .dataframe thead th {\n",
       "        text-align: right;\n",
       "    }\n",
       "</style>\n",
       "<table border=\"1\" class=\"dataframe\">\n",
       "  <thead>\n",
       "    <tr style=\"text-align: right;\">\n",
       "      <th></th>\n",
       "      <th>price_encoded</th>\n",
       "      <th>model_encoded</th>\n",
       "      <th>transmission_encoded</th>\n",
       "      <th>fuel_type_encoded</th>\n",
       "      <th>mpg_encoded</th>\n",
       "      <th>year_encoded</th>\n",
       "      <th>engine_size_scaled</th>\n",
       "      <th>tax_encoded</th>\n",
       "      <th>mileage_scaled</th>\n",
       "    </tr>\n",
       "  </thead>\n",
       "  <tbody>\n",
       "    <tr>\n",
       "      <th>0</th>\n",
       "      <td>3</td>\n",
       "      <td>19</td>\n",
       "      <td>0</td>\n",
       "      <td>1</td>\n",
       "      <td>4</td>\n",
       "      <td>2</td>\n",
       "      <td>0.157348</td>\n",
       "      <td>0</td>\n",
       "      <td>0.262877</td>\n",
       "    </tr>\n",
       "    <tr>\n",
       "      <th>1</th>\n",
       "      <td>3</td>\n",
       "      <td>16</td>\n",
       "      <td>0</td>\n",
       "      <td>0</td>\n",
       "      <td>3</td>\n",
       "      <td>2</td>\n",
       "      <td>0.157348</td>\n",
       "      <td>2</td>\n",
       "      <td>-0.287241</td>\n",
       "    </tr>\n",
       "    <tr>\n",
       "      <th>2</th>\n",
       "      <td>1</td>\n",
       "      <td>19</td>\n",
       "      <td>0</td>\n",
       "      <td>3</td>\n",
       "      <td>2</td>\n",
       "      <td>2</td>\n",
       "      <td>3.179422</td>\n",
       "      <td>4</td>\n",
       "      <td>4.263732</td>\n",
       "    </tr>\n",
       "    <tr>\n",
       "      <th>3</th>\n",
       "      <td>1</td>\n",
       "      <td>13</td>\n",
       "      <td>0</td>\n",
       "      <td>0</td>\n",
       "      <td>4</td>\n",
       "      <td>2</td>\n",
       "      <td>0.157348</td>\n",
       "      <td>0</td>\n",
       "      <td>-0.324349</td>\n",
       "    </tr>\n",
       "    <tr>\n",
       "      <th>4</th>\n",
       "      <td>3</td>\n",
       "      <td>3</td>\n",
       "      <td>0</td>\n",
       "      <td>3</td>\n",
       "      <td>2</td>\n",
       "      <td>3</td>\n",
       "      <td>-0.058514</td>\n",
       "      <td>2</td>\n",
       "      <td>-1.057105</td>\n",
       "    </tr>\n",
       "    <tr>\n",
       "      <th>5</th>\n",
       "      <td>2</td>\n",
       "      <td>3</td>\n",
       "      <td>0</td>\n",
       "      <td>0</td>\n",
       "      <td>4</td>\n",
       "      <td>3</td>\n",
       "      <td>-1.137826</td>\n",
       "      <td>2</td>\n",
       "      <td>-1.037401</td>\n",
       "    </tr>\n",
       "    <tr>\n",
       "      <th>6</th>\n",
       "      <td>2</td>\n",
       "      <td>4</td>\n",
       "      <td>0</td>\n",
       "      <td>0</td>\n",
       "      <td>4</td>\n",
       "      <td>2</td>\n",
       "      <td>-0.058514</td>\n",
       "      <td>2</td>\n",
       "      <td>-1.073509</td>\n",
       "    </tr>\n",
       "    <tr>\n",
       "      <th>7</th>\n",
       "      <td>1</td>\n",
       "      <td>13</td>\n",
       "      <td>0</td>\n",
       "      <td>0</td>\n",
       "      <td>4</td>\n",
       "      <td>2</td>\n",
       "      <td>0.157348</td>\n",
       "      <td>2</td>\n",
       "      <td>0.998684</td>\n",
       "    </tr>\n",
       "    <tr>\n",
       "      <th>8</th>\n",
       "      <td>1</td>\n",
       "      <td>4</td>\n",
       "      <td>0</td>\n",
       "      <td>0</td>\n",
       "      <td>5</td>\n",
       "      <td>2</td>\n",
       "      <td>-1.137826</td>\n",
       "      <td>3</td>\n",
       "      <td>0.154904</td>\n",
       "    </tr>\n",
       "    <tr>\n",
       "      <th>9</th>\n",
       "      <td>1</td>\n",
       "      <td>5</td>\n",
       "      <td>0</td>\n",
       "      <td>0</td>\n",
       "      <td>4</td>\n",
       "      <td>2</td>\n",
       "      <td>0.157348</td>\n",
       "      <td>3</td>\n",
       "      <td>0.426962</td>\n",
       "    </tr>\n",
       "  </tbody>\n",
       "</table>\n",
       "</div>"
      ],
      "text/plain": [
       "   price_encoded  model_encoded  transmission_encoded  fuel_type_encoded  \\\n",
       "0              3             19                     0                  1   \n",
       "1              3             16                     0                  0   \n",
       "2              1             19                     0                  3   \n",
       "3              1             13                     0                  0   \n",
       "4              3              3                     0                  3   \n",
       "5              2              3                     0                  0   \n",
       "6              2              4                     0                  0   \n",
       "7              1             13                     0                  0   \n",
       "8              1              4                     0                  0   \n",
       "9              1              5                     0                  0   \n",
       "\n",
       "   mpg_encoded  year_encoded  engine_size_scaled  tax_encoded  mileage_scaled  \n",
       "0            4             2            0.157348            0        0.262877  \n",
       "1            3             2            0.157348            2       -0.287241  \n",
       "2            2             2            3.179422            4        4.263732  \n",
       "3            4             2            0.157348            0       -0.324349  \n",
       "4            2             3           -0.058514            2       -1.057105  \n",
       "5            4             3           -1.137826            2       -1.037401  \n",
       "6            4             2           -0.058514            2       -1.073509  \n",
       "7            4             2            0.157348            2        0.998684  \n",
       "8            5             2           -1.137826            3        0.154904  \n",
       "9            4             2            0.157348            3        0.426962  "
      ]
     },
     "execution_count": 36,
     "metadata": {},
     "output_type": "execute_result"
    }
   ],
   "source": [
    "df_preprocessed.head(10)"
   ]
  },
  {
   "cell_type": "markdown",
   "metadata": {},
   "source": [
    "### Final Dataset for Classification:\n",
    "\n",
    "### Data Preprocessing:\n",
    "The dataset initially contained both categorical and numerical variables. The relevant features were identified, including `price`, `model`, `year`, `transmission`, `mileage`, `fuelType`, `tax`, `mpg`, and `engineSize`. Missing values were handled as necessary, and the variables were cleaned for consistency.\n",
    "\n",
    "### Feature Engineering:\n",
    "- **Target Variable Transformation**: The `price` variable was transformed into a categorical variable (`price_encoded`) through binning, grouping the prices into discrete categories (e.g., Very Low, Low, Medium, High). This transformation was done to convert the problem from regression to classification, as the goal is now to predict which price category a given car will fall into based on the other features.\n",
    "- **Categorical Encoding**: Several categorical variables were encoded into numerical values for easier use in the machine learning model. `transmission` and `fuelType` were label-encoded, and `model` was also label-encoded to represent the car models numerically.\n",
    "- **Numerical Transformation**: Variables such as `engineSize` and `mileage` were scaled using standard scaling to ensure all numerical features were on the same scale. Additionally, `mileage` was transformed into a new scaled variable.\n",
    "- **Binning of Year**: The `year` column was binned by decades (e.g., 2000s, 2010s) to group the data into more manageable categories, reducing the influence of specific years on the model.\n",
    "\n",
    "### Dimensionality Reduction/Feature Selection:\n",
    "- **Binning of Numerical Variables**: Initially, there was consideration to bin numerical variables like `mileage`, but due to the skewed distribution, scaling was applied instead. \n",
    "\n",
    "### Final Dataset:\n",
    "The final dataset, prepared for classification, contains transformed features such as `price_encoded`, `model_encoded`, `transmission_encoded`, `fuel_type_encoded`, and `year_encoded`. Newly created variables like `price_encoded` and `mileage_scaled` were included to provide the model with relevant information for classification. The dataset is now structured with categorical and numerical variables, all in the correct format for use in a classification model.\n",
    "\n",
    "### Classification Approach:\n",
    "Given that the target variable `price` has been transformed into discrete categories (e.g., Very Low, Low, Medium, High), the task is now a classification problem, rather than a regression. The goal is to predict which price category a car will fall into based on its features. Feature selection and preprocessing steps ensure that all variables are in the right format and scale for optimal model performance. The model will be trained to classify a given car into one of the price categories based on its characteristics, which include model, transmission type, fuel type, mileage, and others. Overall, the preprocessing steps ensured that all variables were appropriately encoded, scaled, or transformed to provide the model with clean and structured data, ready for building and training a classification model."
   ]
  },
  {
   "cell_type": "markdown",
   "metadata": {},
   "source": [
    "## **1.2 Identifying Groups for Cross-Product Features**"
   ]
  },
  {
   "cell_type": "markdown",
   "metadata": {},
   "source": [
    "\n",
    "- [1 points] Identify groups of features in your data that should be combined into cross-product features. Provide a compelling justification for why these features should be crossed (or why some features should not be crossed). \n"
   ]
  },
  {
   "cell_type": "markdown",
   "metadata": {},
   "source": [
    "### Proposed Cross-Product Features and Justification:\n",
    "\n",
    "1. **`fuel_type_encoded` × `mpg_encoded`**\n",
    "   - **Justification:** The relationship between fuel type and MPG can provide useful insights into how different fuel types (e.g., Diesel, Petrol) correlate with fuel efficiency. For example, Diesel and Hybrid cars tend to have higher MPG compared to Petrol cars. By crossing these features, we capture the potential interactions between fuel type and MPG that might not be apparent when these features are treated separately.\n",
    "   - **Mapped Values:**\n",
    "     - **Fuel Type Encoding Mapping:**\n",
    "       - `Diesel`: 0\n",
    "       - `Hybrid`: 1\n",
    "       - `Other`: 2\n",
    "       - `Petrol`: 3\n",
    "     - **MPG Encoding Mapping:**\n",
    "       - `Very Low`: 0\n",
    "       - `Low`: 1\n",
    "       - `Medium`: 2\n",
    "       - `High`: 3\n",
    "       - `Very High`: 4\n",
    "       - `Excellent`: 5\n",
    "       - `Top Tier`: 6\n",
    "   - This cross-product feature can help in identifying patterns of high MPG for specific fuel types (e.g., `Petrol` cars with `Excellent` or `Very High` MPG ratings).\n",
    "\n",
    "2. **`transmission_encoded` × `engine_size_scaled`**\n",
    "   - **Justification:** The interaction between transmission type and engine size can be a significant factor in determining the performance and efficiency of a car. `Automatic` and `Semi-Auto` transmissions tend to be paired with larger engine sizes, while `Manual` transmissions might often be associated with smaller engines. Cross-encoding these features will allow the model to better understand how engine size influences transmission type.\n",
    "   - **Mapped Values:**\n",
    "     - **Transmission Encoding Mapping:**\n",
    "       - `Automatic`: 0\n",
    "       - `Manual`: 1\n",
    "       - `Other`: 2\n",
    "       - `Semi-Auto`: 3\n",
    "     - **Engine Size Scaling:** The scaled `engine_size` helps the model understand the size relative to the dataset, so crossing this with the `transmission` type can reveal trends in car configurations (e.g., larger engines tend to be automatic).\n",
    "   - This interaction captures nuances in how engine size and transmission type work together in shaping the vehicle's overall performance and efficiency.\n",
    "\n",
    "3. **`year_encoded` × `mileage_scaled`**\n",
    "   - **Justification:** The age of the car (represented by the `year`) and its mileage are often related. Older cars typically have higher mileage, and understanding this relationship could provide insights into car depreciation or potential maintenance needs. By crossing these features, we capture the interaction between the car's age and its condition (in terms of mileage), which could influence its pricing and desirability.\n",
    "   - **Mapped Values:**\n",
    "     - **Year Encoding Mapping:**\n",
    "       - `1990s`: 0\n",
    "       - `2000s`: 1\n",
    "       - `2010s`: 2\n",
    "       - `2020s`: 3\n",
    "     - **Mileage Scaling:** `Mileage` is scaled to understand its relative effect on the overall condition of the vehicle, with lower mileage indicating better condition. Crossing this with the `year` of manufacture allows the model to better grasp how mileage patterns change over time.\n",
    "   - This cross-product can reveal trends, like how high mileage negatively affects older cars or how newer cars with high mileage might still be considered in good condition.\n",
    "\n",
    "4. **`model_encoded` × `year_encoded`**\n",
    "   - **Justification:** Different car models tend to have different lifespans, and older models often have different features or designs compared to newer ones. By crossing `model` type with `year`, we can capture how the car's `model` influences its age-related features, such as depreciation or technological advancements.\n",
    "   - **Mapped Values:**\n",
    "     - **Model Encoding Mapping:** Each `model` is mapped to an integer (e.g., `180` to 0, `200` to 1, etc.), which helps the model distinguish between different vehicle models.\n",
    "     - **Year Encoding Mapping:** The model’s release `year` can interact with the specific features of that `model`, highlighting how older models perform or are valued differently than newer models like the 1990s vehicles.\n",
    "   - This interaction could reveal interesting patterns, such as newer models (e.g., `GLA Class` or `S Class`) holding their value better than older models like the 1990s vehicles.\n",
    "\n",
    "### Why the Target Variable Should Not Be Included:\n",
    "- **Target Variable (e.g., `price_encoded`)**: The target variable in a classification or regression task represents the output or prediction that the model aims to predict. It should not be included in the cross-product features because:\n",
    "  - **Leakage of Information**: Including the target variable in the feature set would introduce data leakage, where the model already knows the outcome while training, leading to an unrealistic and over-optimistic evaluation of its performance.\n",
    "  - **Redundancy**: The target variable is what the model is trying to predict, so it should not be part of the input features. Including it would make the problem trivial and invalidate the prediction task.\n",
    "  - **Model Integrity**: The objective is for the model to learn meaningful relationships between the features and the target variable. Including the target in the feature set would undermine this learning process by providing direct access to the target during model training.\n",
    "\n",
    "### Conclusion:\n",
    "The proposed cross-product features are meaningful because they combine variables that have logical interactions in the context of the dataset. These interactions could reveal complex patterns that would be missed if the features were used separately. Additionally, the encoded values ensure that the categorical features are handled in a way that captures the relationship between them, while the scaling of continuous features (like `engine_size` and `mileage`) ensures that their values are appropriately accounted for in the cross-products. However, the target variable should not be included as a feature to prevent data leakage and maintain the integrity of the prediction task.\n"
   ]
  },
  {
   "cell_type": "code",
   "execution_count": 37,
   "metadata": {},
   "outputs": [
    {
     "data": {
      "text/plain": [
       "['fuel_type_encoded_mpg_encoded',\n",
       " 'transmission_encoded_engine_size_scaled',\n",
       " 'year_encoded_mileage_scaled',\n",
       " 'model_encoded_year_encoded']"
      ]
     },
     "execution_count": 37,
     "metadata": {},
     "output_type": "execute_result"
    }
   ],
   "source": [
    "\n",
    "cross_cols = [['fuel_type_encoded', 'mpg_encoded'],\n",
    "              ['transmission_encoded', 'engine_size_scaled'],\n",
    "              ['year_encoded', 'mileage_scaled'],\n",
    "              ['model_encoded', 'year_encoded']]\n",
    "\n",
    "cross_col_names = []\n",
    "for cols_list in cross_cols:\n",
    "    enc = LabelEncoder()\n",
    "    \n",
    "    X_crossed = df_preprocessed[cols_list].astype(str).apply(lambda x: '_'.join(x), axis=1)\n",
    "    cross_col_name = '_'.join(cols_list)\n",
    "    enc.fit(X_crossed)\n",
    "    df_preprocessed[cross_col_name] = enc.transform(X_crossed)\n",
    "    cross_col_names.append(cross_col_name) \n",
    "    \n",
    "cross_col_names"
   ]
  },
  {
   "cell_type": "markdown",
   "metadata": {},
   "source": [
    "## **1.3 Metrics for Evaluating Algorithm Performance**"
   ]
  },
  {
   "cell_type": "markdown",
   "metadata": {},
   "source": [
    "- [1 points] Choose and explain what metric(s) you will use to evaluate your algorithm’s performance. You should give a detailed argument for why this (these) metric(s) are appropriate on your data. That is, why is the metric appropriate for the task (e.g., in terms of the business case for the task). Please note: rarely is accuracy the best evaluation metric to use. Think deeply about an appropriate measure of performance.\n"
   ]
  },
  {
   "cell_type": "markdown",
   "metadata": {},
   "source": [
    "For evaluating the performance of the classification model on the `price_encoded` target variable, the chosen metrics are **F1 Score**, **Precision**, and **Recall**. These metrics align with the business objectives and address the needs of various stakeholders. Each metric provides a different perspective on model performance, ensuring that the model accurately classifies vehicles into price categories in a way that is balanced and relevant to operational needs.\n",
    "\n",
    "---\n",
    "\n",
    "### F1 Score\n",
    "\n",
    "The **F1 Score** is a metric that balances Precision and Recall, providing an overall measure of the model’s performance across different price categories. This metric is especially important for stakeholders such as sales and marketing teams, who rely on accurate vehicle segmentation to effectively target specific customer segments.\n",
    "\n",
    "- **Business Relevance**: Sales and marketing teams need an accurate breakdown of vehicle categories—such as budget, mid-range, and premium—to tailor promotions and strategies accordingly. A high F1 Score, ideally above 0.75, would indicate that the model can effectively differentiate across all price bins, minimizing risks associated with mis-targeting. An F1 Score close to 0.80 or higher would be particularly useful, as it shows the model is well-balanced and can identify various segments without favoring one too heavily.\n",
    "\n",
    "- **Impact**: With a balanced F1 Score, no customer segment is disproportionately ignored. This metric ensures efficient resource allocation across different categories, improving the reach and engagement of marketing campaigns.\n",
    "\n",
    "---\n",
    "\n",
    "### Precision\n",
    "\n",
    "**Precision** is essential for evaluating the model’s accuracy in predicting specific price categories. High Precision helps avoid false positives, particularly for high-value categories, which is critical for stakeholders such as inventory management and customer relations.\n",
    "\n",
    "- **Business Relevance**: Inventory and customer relations teams need the model to accurately identify high-value categories to ensure that customers are not misled by incorrect classifications of vehicles as premium when they are not. For premium bins, Precision should ideally be above 0.85 to avoid classifying lower-cost vehicles as high-value. For budget categories, a Precision score of 0.75 is acceptable, as minor overlaps may be tolerable due to higher demand.\n",
    "\n",
    "- **Impact**: Strong Precision (above 0.85 for high-value bins) builds customer trust, as it assures that vehicles advertised as premium meet expectations. Additionally, by correctly classifying these premium vehicles, the organization can allocate them to the appropriate customer segments, reducing resource misallocation.\n",
    "\n",
    "---\n",
    "\n",
    "### Recall\n",
    "\n",
    "**Recall** measures the model’s effectiveness in capturing all relevant instances within each price category, ensuring comprehensive coverage of each price range. This is valuable to market analysis and inventory planning teams, as it helps avoid missing any vehicles within high-demand segments.\n",
    "\n",
    "- **Business Relevance**: Market analysts and inventory planners benefit from high Recall because it enables accurate demand forecasting and better inventory management. For budget bins, Recall should ideally be above 0.80 to ensure the model captures a complete view of affordable options. For luxury bins, where segments are often smaller, a slightly lower Recall of 0.75 is acceptable.\n",
    "\n",
    "- **Impact**: High Recall across categories ensures full market visibility, helping analysts make confident assessments of demand across price segments. For inventory management, high Recall ensures that the inventory aligns well with demand across all categories, reducing the risk of stock imbalances.\n",
    "\n",
    "---\n",
    "\n",
    "### Summary of Metrics and Stakeholder Impact\n",
    "\n",
    "Each metric was chosen to align with business needs and maximize operational efficiency:\n",
    "\n",
    "- **F1 Score** provides a balanced measure, helping sales and marketing reach the right audience segments with fewer misclassifications.\n",
    "- **Precision** minimizes costly errors in premium categories, enhancing customer satisfaction and resource allocation.\n",
    "- **Recall** supports complete market visibility and demand forecasting, critical for market analysis and inventory planning.\n",
    "\n",
    "Together, these metrics provide a well-rounded evaluation of model performance, ensuring that the classification of price categories supports business objectives across multiple functional areas. By meeting each metric’s threshold, the model can drive data-driven decisions, improving customer engagement and operational accuracy.\n"
   ]
  },
  {
   "cell_type": "markdown",
   "metadata": {},
   "source": [
    "## **1.4 Dividing Data into Training & Testing**"
   ]
  },
  {
   "cell_type": "markdown",
   "metadata": {},
   "source": [
    "- [1 points] Choose the method you will use for dividing your data into training and testing (i.e., are you using Stratified 10-fold cross validation? Shuffle splits? Why?). Explain why your chosen method is appropriate or use more than one method as appropriate. Argue why your cross validation method is a realistic mirroring of how an algorithm would be used in practice. Use the method to split your data that you argue for. "
   ]
  },
  {
   "cell_type": "markdown",
   "metadata": {},
   "source": [
    "### Method for Dividing Data: Stratified 10-Fold Cross-Validation\n",
    "\n",
    "For dividing the data into training and testing, **Stratified 10-fold cross-validation** will be used. This method was selected due to several reasons that align with the nature of the dataset and the task at hand.\n",
    "\n",
    "#### Choice of Method: Stratified 10-Fold Cross-Validation\n",
    "\n",
    "Stratified 10-fold cross-validation ensures that the data is split into 10 equal parts, with each fold maintaining the same distribution of the target variable, `price_encoded`, as in the entire dataset. This is particularly important because the target variable consists of multiple price categories (bins), which could potentially be imbalanced. Some price categories might have more data points than others, and using **stratified** splits ensures that each fold has a proportional representation of each class. This way, each fold accurately represents the overall distribution of the target, preventing bias that could arise from skewed distributions in certain folds.\n",
    "\n",
    "#### Why Stratified 10-Fold Cross-Validation Is Appropriate\n",
    "\n",
    "1. **Handling Imbalanced Classes**:  \n",
    "   The target variable, `price_encoded`, consists of different price categories, which might not have an even distribution of instances. Some price bins may be overrepresented (e.g., a popular mid-range price category), while others may have very few instances. In such cases, a standard cross-validation method could lead to some folds having few or no examples of certain price bins, resulting in biased or inaccurate model performance. Stratified cross-validation addresses this by ensuring that each fold has a similar proportion of each category, making the evaluation of the model’s performance more reliable across all price bins.\n",
    "\n",
    "2. **More Reliable Performance Metrics**:  \n",
    "   Using Stratified 10-fold cross-validation provides a more comprehensive and reliable evaluation of the model. Since each fold is tested on a different subset of the data, the model’s performance metrics, such as **F1 score**, **precision**, and **recall**, are averaged over multiple folds. This reduces the impact of any one random split that may be unrepresentative of the overall data. It also helps account for variability in the model's performance, leading to a more robust estimate of how well the model generalizes to new, unseen data.\n",
    "\n",
    "3. **Mirroring Real-World Use**:  \n",
    "   In practice, machine learning models are deployed to handle new data on an ongoing basis. Stratified 10-fold cross-validation simulates this scenario by repeatedly training and testing the model on different subsets of the data. This approach mirrors the model’s real-world application, where it would be trained on varied data points from different sources and would need to generalize well across those variations.\n",
    "\n",
    "4. **Maximizing Data Use**:  \n",
    "   Stratified 10-fold cross-validation ensures that every data point is used for both training and testing across different folds. This maximizes the use of available data, which is especially important when the dataset may be limited. In contrast, a traditional **80/20 train-test split** would set aside 20% of the data for testing, potentially reducing the amount of training data the model can use and risking a less accurate performance evaluation.\n",
    "\n",
    "5. **Balanced and Consistent Evaluation**:  \n",
    "   Stratified cross-validation helps prevent situations where a single random train-test split might not reflect the overall dataset, particularly in cases of class imbalance. This approach ensures that the model is evaluated consistently and fairly across all subsets of the data, leading to more accurate performance metrics.\n",
    "\n",
    "#### Conclusion\n",
    "\n",
    "Stratified 10-fold cross-validation is the most appropriate method for splitting the data in this task. It ensures that the evaluation process is representative of the target variable's distribution, leading to more accurate performance assessments. This method also reflects how an algorithm would be used in real-world scenarios, where consistent and robust model evaluation is essential. By using Stratified 10-fold cross-validation, the performance metrics—such as F1 score, precision, and recall—will be calculated more reliably, providing a true reflection of the model’s ability to generalize to unseen data."
   ]
  },
  {
   "cell_type": "markdown",
   "metadata": {},
   "source": [
    "### Splitting the Data with Stratified Fold"
   ]
  },
  {
   "cell_type": "code",
   "execution_count": 38,
   "metadata": {},
   "outputs": [
    {
     "name": "stdout",
     "output_type": "stream",
     "text": [
      "Train set shape: (11115, 12), Test set shape: (1236, 12)\n",
      "Target distribution in training set:\n",
      "price_encoded\n",
      "2    0.396761\n",
      "1    0.383536\n",
      "3    0.129285\n",
      "4    0.049033\n",
      "0    0.023212\n",
      "5    0.018174\n",
      "Name: proportion, dtype: float64\n",
      "Target distribution in test set:\n",
      "price_encoded\n",
      "2    0.396440\n",
      "1    0.383495\n",
      "3    0.129450\n",
      "4    0.049353\n",
      "0    0.023463\n",
      "5    0.017799\n",
      "Name: proportion, dtype: float64\n",
      "Train set shape: (11116, 12), Test set shape: (1235, 12)\n",
      "Target distribution in training set:\n",
      "price_encoded\n",
      "2    0.396725\n",
      "1    0.383501\n",
      "3    0.129273\n",
      "4    0.049118\n",
      "0    0.023210\n",
      "5    0.018172\n",
      "Name: proportion, dtype: float64\n",
      "Target distribution in test set:\n",
      "price_encoded\n",
      "2    0.396761\n",
      "1    0.383806\n",
      "3    0.129555\n",
      "4    0.048583\n",
      "0    0.023482\n",
      "5    0.017814\n",
      "Name: proportion, dtype: float64\n",
      "Train set shape: (11116, 12), Test set shape: (1235, 12)\n",
      "Target distribution in training set:\n",
      "price_encoded\n",
      "2    0.396725\n",
      "1    0.383501\n",
      "3    0.129273\n",
      "4    0.049118\n",
      "0    0.023210\n",
      "5    0.018172\n",
      "Name: proportion, dtype: float64\n",
      "Target distribution in test set:\n",
      "price_encoded\n",
      "2    0.396761\n",
      "1    0.383806\n",
      "3    0.129555\n",
      "4    0.048583\n",
      "0    0.023482\n",
      "5    0.017814\n",
      "Name: proportion, dtype: float64\n",
      "Train set shape: (11116, 12), Test set shape: (1235, 12)\n",
      "Target distribution in training set:\n",
      "price_encoded\n",
      "2    0.396725\n",
      "1    0.383501\n",
      "3    0.129273\n",
      "4    0.049118\n",
      "0    0.023210\n",
      "5    0.018172\n",
      "Name: proportion, dtype: float64\n",
      "Target distribution in test set:\n",
      "price_encoded\n",
      "2    0.396761\n",
      "1    0.383806\n",
      "3    0.129555\n",
      "4    0.048583\n",
      "0    0.023482\n",
      "5    0.017814\n",
      "Name: proportion, dtype: float64\n",
      "Train set shape: (11116, 12), Test set shape: (1235, 12)\n",
      "Target distribution in training set:\n",
      "price_encoded\n",
      "2    0.396725\n",
      "1    0.383591\n",
      "3    0.129273\n",
      "4    0.049118\n",
      "0    0.023210\n",
      "5    0.018082\n",
      "Name: proportion, dtype: float64\n",
      "Target distribution in test set:\n",
      "price_encoded\n",
      "2    0.396761\n",
      "1    0.382996\n",
      "3    0.129555\n",
      "4    0.048583\n",
      "0    0.023482\n",
      "5    0.018623\n",
      "Name: proportion, dtype: float64\n",
      "Train set shape: (11116, 12), Test set shape: (1235, 12)\n",
      "Target distribution in training set:\n",
      "price_encoded\n",
      "2    0.396725\n",
      "1    0.383591\n",
      "3    0.129273\n",
      "4    0.049028\n",
      "0    0.023300\n",
      "5    0.018082\n",
      "Name: proportion, dtype: float64\n",
      "Target distribution in test set:\n",
      "price_encoded\n",
      "2    0.396761\n",
      "1    0.382996\n",
      "3    0.129555\n",
      "4    0.049393\n",
      "0    0.022672\n",
      "5    0.018623\n",
      "Name: proportion, dtype: float64\n",
      "Train set shape: (11116, 12), Test set shape: (1235, 12)\n",
      "Target distribution in training set:\n",
      "price_encoded\n",
      "2    0.396725\n",
      "1    0.383591\n",
      "3    0.129273\n",
      "4    0.049028\n",
      "0    0.023300\n",
      "5    0.018082\n",
      "Name: proportion, dtype: float64\n",
      "Target distribution in test set:\n",
      "price_encoded\n",
      "2    0.396761\n",
      "1    0.382996\n",
      "3    0.129555\n",
      "4    0.049393\n",
      "0    0.022672\n",
      "5    0.018623\n",
      "Name: proportion, dtype: float64\n",
      "Train set shape: (11116, 12), Test set shape: (1235, 12)\n",
      "Target distribution in training set:\n",
      "price_encoded\n",
      "2    0.396725\n",
      "1    0.383501\n",
      "3    0.129363\n",
      "4    0.049028\n",
      "0    0.023300\n",
      "5    0.018082\n",
      "Name: proportion, dtype: float64\n",
      "Target distribution in test set:\n",
      "price_encoded\n",
      "2    0.396761\n",
      "1    0.383806\n",
      "3    0.128745\n",
      "4    0.049393\n",
      "0    0.022672\n",
      "5    0.018623\n",
      "Name: proportion, dtype: float64\n",
      "Train set shape: (11116, 12), Test set shape: (1235, 12)\n",
      "Target distribution in training set:\n",
      "price_encoded\n",
      "2    0.396725\n",
      "1    0.383501\n",
      "3    0.129363\n",
      "4    0.049028\n",
      "0    0.023210\n",
      "5    0.018172\n",
      "Name: proportion, dtype: float64\n",
      "Target distribution in test set:\n",
      "price_encoded\n",
      "2    0.396761\n",
      "1    0.383806\n",
      "3    0.128745\n",
      "4    0.049393\n",
      "0    0.023482\n",
      "5    0.017814\n",
      "Name: proportion, dtype: float64\n",
      "Train set shape: (11116, 12), Test set shape: (1235, 12)\n",
      "Target distribution in training set:\n",
      "price_encoded\n",
      "2    0.396725\n",
      "1    0.383501\n",
      "3    0.129363\n",
      "4    0.049028\n",
      "0    0.023210\n",
      "5    0.018172\n",
      "Name: proportion, dtype: float64\n",
      "Target distribution in test set:\n",
      "price_encoded\n",
      "2    0.396761\n",
      "1    0.383806\n",
      "3    0.128745\n",
      "4    0.049393\n",
      "0    0.023482\n",
      "5    0.017814\n",
      "Name: proportion, dtype: float64\n"
     ]
    }
   ],
   "source": [
    "# Initialize StratifiedKFold with 10 folds\n",
    "strat_kfold = StratifiedKFold(n_splits=10, shuffle=True, random_state=42)\n",
    "\n",
    "# Initializing the model\n",
    "model = RandomForestClassifier(random_state=42)\n",
    "\n",
    "# Preparing data for splits\n",
    "X = df_preprocessed.drop(columns=['price_encoded'])\n",
    "y = df_preprocessed['price_encoded']\n",
    "\n",
    "# Initializing list to store the splits\n",
    "splits = []\n",
    "\n",
    "# Running cross-validation and split the data\n",
    "for train_index, test_index in strat_kfold.split(X, y):\n",
    "    # Stores the split data\n",
    "    splits.append((X.iloc[train_index], X.iloc[test_index], y.iloc[train_index], y.iloc[test_index]))\n",
    "\n",
    "    # Checking for Successful Split\n",
    "    print(f'Train set shape: {X.iloc[train_index].shape}, Test set shape: {X.iloc[test_index].shape}')\n",
    "    print(f'Target distribution in training set:\\n{y.iloc[train_index].value_counts(normalize=True)}')\n",
    "    print(f'Target distribution in test set:\\n{y.iloc[test_index].value_counts(normalize=True)}')\n"
   ]
  },
  {
   "cell_type": "markdown",
   "metadata": {},
   "source": [
    "The cross-validation process using StratifiedKFold has been successfully implemented. The data was split into 10 folds, with each fold containing training and test sets. The training sets consistently contain around 11,115 to 11,116 samples, and the test sets have 1,235 samples. The target variable (`price_encoded`) is well-stratified, with the distribution in both the training and test sets remaining almost identical across all folds. This ensures that the target classes are proportionally represented in each fold, which helps in evaluating the model’s performance accurately. The feature sets used for training and testing contain 12 columns, matching the expected number of features. Overall, the stratified splitting process appears to be functioning correctly, ensuring a reliable cross-validation setup."
   ]
  },
  {
   "cell_type": "code",
   "execution_count": 39,
   "metadata": {},
   "outputs": [
    {
     "name": "stdout",
     "output_type": "stream",
     "text": [
      "Metrics for fold 1:\n",
      "Accuracy: 0.7710355987055016\n",
      "Precision: 0.7694336520357486\n",
      "Recall: 0.7710355987055016\n",
      "F1 Score: 0.7699011516873747\n",
      "Confusion Matrix:\n",
      "[[ 15  14   0   0   0   0]\n",
      " [  7 402  65   0   0   0]\n",
      " [  0  60 386  43   1   0]\n",
      " [  0   2  46  94  17   1]\n",
      " [  0   0   1  16  39   5]\n",
      " [  0   0   1   1   3  17]]\n",
      "--------------------------------------------------\n",
      "Metrics for fold 2:\n",
      "Accuracy: 0.7740890688259109\n",
      "Precision: 0.7718992985347581\n",
      "Recall: 0.7740890688259109\n",
      "F1 Score: 0.7722561123236487\n",
      "Confusion Matrix:\n",
      "[[ 17  12   0   0   0   0]\n",
      " [ 10 407  56   1   0   0]\n",
      " [  1  65 388  36   0   0]\n",
      " [  0   0  51  95  13   1]\n",
      " [  0   0   5  13  39   3]\n",
      " [  0   0   0   2  10  10]]\n",
      "--------------------------------------------------\n",
      "Metrics for fold 3:\n",
      "Accuracy: 0.7765182186234818\n",
      "Precision: 0.7779068487216326\n",
      "Recall: 0.7765182186234818\n",
      "F1 Score: 0.7768415453892827\n",
      "Confusion Matrix:\n",
      "[[ 20   8   1   0   0   0]\n",
      " [  4 397  72   1   0   0]\n",
      " [  0  55 393  40   2   0]\n",
      " [  0   0  43 101  16   0]\n",
      " [  0   0   0  15  36   9]\n",
      " [  0   0   0   1   9  12]]\n",
      "--------------------------------------------------\n",
      "Metrics for fold 4:\n",
      "Accuracy: 0.7724696356275303\n",
      "Precision: 0.7736378753086787\n",
      "Recall: 0.7724696356275303\n",
      "F1 Score: 0.7724175059932403\n",
      "Confusion Matrix:\n",
      "[[ 20   9   0   0   0   0]\n",
      " [  5 407  62   0   0   0]\n",
      " [  0  53 387  46   4   0]\n",
      " [  0   0  53  91  16   0]\n",
      " [  0   0   1  19  37   3]\n",
      " [  0   0   0   2   8  12]]\n",
      "--------------------------------------------------\n",
      "Metrics for fold 5:\n",
      "Accuracy: 0.7748987854251013\n",
      "Precision: 0.7728328914277057\n",
      "Recall: 0.7748987854251013\n",
      "F1 Score: 0.7736129325153916\n",
      "Confusion Matrix:\n",
      "[[ 18  11   0   0   0   0]\n",
      " [  7 408  57   1   0   0]\n",
      " [  0  69 385  33   3   0]\n",
      " [  0   0  48  98  13   1]\n",
      " [  0   0   0  18  34   8]\n",
      " [  0   0   0   0   9  14]]\n",
      "--------------------------------------------------\n",
      "Metrics for fold 6:\n",
      "Accuracy: 0.7716599190283401\n",
      "Precision: 0.7725246670405967\n",
      "Recall: 0.7716599190283401\n",
      "F1 Score: 0.7715967298684159\n",
      "Confusion Matrix:\n",
      "[[ 13  15   0   0   0   0]\n",
      " [  8 400  65   0   0   0]\n",
      " [  0  50 390  48   2   0]\n",
      " [  0   0  44 100  15   1]\n",
      " [  0   0   2  21  35   3]\n",
      " [  0   0   0   0   8  15]]\n",
      "--------------------------------------------------\n",
      "Metrics for fold 7:\n",
      "Accuracy: 0.7708502024291498\n",
      "Precision: 0.76938559018603\n",
      "Recall: 0.7708502024291498\n",
      "F1 Score: 0.7699713242142371\n",
      "Confusion Matrix:\n",
      "[[ 19   9   0   0   0   0]\n",
      " [ 10 401  62   0   0   0]\n",
      " [  0  68 385  35   2   0]\n",
      " [  1   1  43  95  19   1]\n",
      " [  0   0   2  19  34   6]\n",
      " [  0   0   0   1   4  18]]\n",
      "--------------------------------------------------\n",
      "Metrics for fold 8:\n",
      "Accuracy: 0.7829959514170041\n",
      "Precision: 0.7824110918495563\n",
      "Recall: 0.7829959514170041\n",
      "F1 Score: 0.7812797258770162\n",
      "Confusion Matrix:\n",
      "[[ 14  14   0   0   0   0]\n",
      " [  7 420  47   0   0   0]\n",
      " [  1  65 378  46   0   0]\n",
      " [  0   0  42 107   8   2]\n",
      " [  0   0   3  19  31   8]\n",
      " [  0   0   0   0   6  17]]\n",
      "--------------------------------------------------\n",
      "Metrics for fold 9:\n",
      "Accuracy: 0.7927125506072874\n",
      "Precision: 0.7937257699343446\n",
      "Recall: 0.7927125506072874\n",
      "F1 Score: 0.7917911195637125\n",
      "Confusion Matrix:\n",
      "[[ 16  13   0   0   0   0]\n",
      " [  5 415  54   0   0   0]\n",
      " [  0  63 387  38   2   0]\n",
      " [  0   0  36 111  12   0]\n",
      " [  0   0   1  19  39   2]\n",
      " [  0   0   0   1  10  11]]\n",
      "--------------------------------------------------\n",
      "Metrics for fold 10:\n",
      "Accuracy: 0.7659919028340081\n",
      "Precision: 0.768035865316256\n",
      "Recall: 0.7659919028340081\n",
      "F1 Score: 0.7666693522412554\n",
      "Confusion Matrix:\n",
      "[[ 17  12   0   0   0   0]\n",
      " [ 12 400  61   1   0   0]\n",
      " [  0  58 380  51   1   0]\n",
      " [  0   0  42 101  15   1]\n",
      " [  0   0   3  23  32   3]\n",
      " [  0   0   0   0   6  16]]\n",
      "--------------------------------------------------\n"
     ]
    }
   ],
   "source": [
    "# Now that splits are stored, defining a function to calculate metrics\n",
    "def calculate_metrics(splits):\n",
    "    for fold, (X_train, X_test, y_train, y_test) in enumerate(splits, 1):\n",
    "        # Train the model\n",
    "        model.fit(X_train, y_train)\n",
    "        \n",
    "        # Predict on the test set\n",
    "        y_pred = model.predict(X_test)\n",
    "        \n",
    "        # Calculate and print metrics\n",
    "        print(f'Metrics for fold {fold}:')\n",
    "        print(f'Accuracy: {accuracy_score(y_test, y_pred)}')\n",
    "        print(f'Precision: {precision_score(y_test, y_pred, average=\"weighted\", zero_division=1)}')\n",
    "        print(f'Recall: {recall_score(y_test, y_pred, average=\"weighted\", zero_division=1)}')\n",
    "        print(f'F1 Score: {f1_score(y_test, y_pred, average=\"weighted\", zero_division=1)}')\n",
    "        print(f'Confusion Matrix:\\n{confusion_matrix(y_test, y_pred)}')\n",
    "        print('-' * 50)\n",
    "\n",
    "# Calls the function to calculate metrics for each split\n",
    "calculate_metrics(splits)\n"
   ]
  },
  {
   "cell_type": "code",
   "execution_count": null,
   "metadata": {},
   "outputs": [],
   "source": []
  }
 ],
 "metadata": {
  "kernelspec": {
   "display_name": "Python 3",
   "language": "python",
   "name": "python3"
  },
  "language_info": {
   "codemirror_mode": {
    "name": "ipython",
    "version": 3
   },
   "file_extension": ".py",
   "mimetype": "text/x-python",
   "name": "python",
   "nbconvert_exporter": "python",
   "pygments_lexer": "ipython3",
   "version": "3.12.6"
  }
 },
 "nbformat": 4,
 "nbformat_minor": 2
}
