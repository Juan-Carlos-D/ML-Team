{
 "cells": [
  {
   "cell_type": "markdown",
   "metadata": {},
   "source": [
    "# **1. Business Understanding**"
   ]
  },
  {
   "cell_type": "markdown",
   "metadata": {},
   "source": [
    "- The `Hotel Bookings Dataset` contains a comprehensive collection of information pertaining to hotel bookings, cancellations, and guests' details for Resort and City Hotels. From the dataset's description, \"it provides insights into various aspects such as the type of hotel, the number of adults, children, and babies per booking, the length of stay, the meal plan chosen by guests,\" and other features. The travel industry is booming following the COVID restrictions that were in place over the past few years. However, cancellations are inevitable and can negatively impact hotel operations. The provided data in this dataset can facilitate analysis by examining the factors that are likely to lead to a cancellation, such as long lead times, the average daily rate, or even past cancellation behaviors. This dataset aims to identify these trends to predict whether a cancellation will occur or not.\n",
    "\n",
    "- The dataset contains 119,390 rows and 33 features. The target feature is `is_canceled`, which indicates whether a reservation was canceled or not. Although the methods for acquiring this dataset are not explicitly stated, it is reasonable to infer that it was collected by hotel management systems or third-party booking platforms. The purpose for its collection was likely to assess the factors and trends leading to cancellations in reservations. Cancellations can financially impact hotel operations, especially if they occur last minute, after hotels have already allocated their budgets.\n",
    "\n",
    "- The prediction task for this dataset is to predict whether a cancellation will happen or not based on trends or patterns identified in the data. For example, if city hotels experience more cancellations than resort hotels, it could indicate what guests value more in their hotel experiences. Accurate predictions would be beneficial to various stakeholders:\n",
    "    - **Hotel Managers**: They could use the model to minimize revenue loss and optimize operations by adjusting pricing or offering last-minute deals for canceled rooms.\n",
    "    - **Marketing Teams**: Insights from cancellation trends could help marketing departments design campaigns that attract guests less likely to cancel, or improve service offerings to reduce cancellation rates.\n",
    "    - **Local Businesses**: Hotels often operate near popular destinations (e.g., Disneyland or downtown areas), so reducing cancellations ensures more tourists stay, benefiting nearby businesses.\n",
    "\n",
    "## Measure of Success\n",
    "\n",
    "To determine whether the prediction algorithm is successful, several criteria should be considered:\n",
    "\n",
    "- **Accuracy**: The model should perform significantly better than random chance (50%). A success rate of over 90% would indicate that the model is effective in predicting cancellations, ensuring more reliable business decisions. An accuracy of 90% or higher would help hotels confidently adjust their overbooking strategies, dynamically price rooms, and increase operational efficiency.\n",
    "  \n",
    "- **Precision and Recall**: \n",
    "   - **Precision**: It is crucial to avoid incorrect predictions of cancellations (false positives) as these could lead to overbooking and customer dissatisfaction. \n",
    "   - **Recall**: Ensuring that most cancellations are correctly predicted (high recall) minimizes unexpected losses due to no-shows. \n",
    "   - A **balanced F1 score** (harmonic mean of precision and recall) would indicate an optimal trade-off between avoiding false positives and false negatives, making the model more practical for real-world use.\n",
    "\n",
    "- **Practical Impact**: The model needs to be robust and flexible to handle real-world variability. For example, it should accommodate fluctuating booking patterns during peak seasons and varying customer behavior. Additionally, a successful model should help hotels maintain occupancy rates close to industry benchmarks (typically around 70%-80%) by dynamically adjusting prices for canceled rooms or offering last-minute deals to minimize revenue loss.\n",
    "\n",
    "## Real-World Examples and Benchmarks\n",
    "\n",
    "- **Overbooking Strategies**: Many hotels rely on predictive models to allow for overbooking, ensuring occupancy rates near 100%. Accurately predicting cancellations enables hotels to avoid losing revenue from empty rooms while preventing too many customers from arriving with insufficient room availability.\n",
    "  \n",
    "- **Revenue Management**: Accurate cancellation predictions can lead to a 10-15% improvement in overall hotel revenue by optimizing pricing strategies and maximizing room availability.\n",
    "\n",
    "- **Operational Efficiency**: By predicting cancellations and adjusting for them in advance, hotels can better allocate their resources, adjust staffing levels, and reduce operational costs. For instance, if a high probability of cancellations is predicted for a particular weekend, hotel management can optimize staff scheduling and avoid overstaffing.\n",
    "\n",
    "\n",
    "\n",
    "Resource: https://www.kaggle.com/datasets/thedevastator/hotel-bookings-analysis/data\n",
    "- https://data.world/mesum/hotel-bookings-dataset/workspace/file?filename=hotel_bookings.csv"
   ]
  },
  {
   "cell_type": "markdown",
   "metadata": {},
   "source": [
    "# **2. Data Understanding**"
   ]
  },
  {
   "cell_type": "code",
   "execution_count": 1,
   "metadata": {},
   "outputs": [],
   "source": [
    "# Modules & Libraries\n",
    "import pandas as pd\n",
    "import numpy as np\n",
    "import matplotlib\n",
    "import matplotlib.pyplot as plt\n",
    "import seaborn as sns\n",
    "from matplotlib.dates import DateFormatter, MonthLocator\n",
    "import matplotlib.dates as mdates"
   ]
  },
  {
   "cell_type": "markdown",
   "metadata": {},
   "source": [
    "### **2.1 Loading the Dataset & Defining Data Types**"
   ]
  },
  {
   "cell_type": "code",
   "execution_count": 2,
   "metadata": {},
   "outputs": [
    {
     "data": {
      "text/html": [
       "<div>\n",
       "<style scoped>\n",
       "    .dataframe tbody tr th:only-of-type {\n",
       "        vertical-align: middle;\n",
       "    }\n",
       "\n",
       "    .dataframe tbody tr th {\n",
       "        vertical-align: top;\n",
       "    }\n",
       "\n",
       "    .dataframe thead th {\n",
       "        text-align: right;\n",
       "    }\n",
       "</style>\n",
       "<table border=\"1\" class=\"dataframe\">\n",
       "  <thead>\n",
       "    <tr style=\"text-align: right;\">\n",
       "      <th></th>\n",
       "      <th>hotel</th>\n",
       "      <th>is_canceled</th>\n",
       "      <th>lead_time</th>\n",
       "      <th>arrival_date_year</th>\n",
       "      <th>arrival_date_month</th>\n",
       "      <th>arrival_date_week_number</th>\n",
       "      <th>arrival_date_day_of_month</th>\n",
       "      <th>stays_in_weekend_nights</th>\n",
       "      <th>stays_in_week_nights</th>\n",
       "      <th>adults</th>\n",
       "      <th>...</th>\n",
       "      <th>deposit_type</th>\n",
       "      <th>agent</th>\n",
       "      <th>company</th>\n",
       "      <th>days_in_waiting_list</th>\n",
       "      <th>customer_type</th>\n",
       "      <th>adr</th>\n",
       "      <th>required_car_parking_spaces</th>\n",
       "      <th>total_of_special_requests</th>\n",
       "      <th>reservation_status</th>\n",
       "      <th>reservation_status_date</th>\n",
       "    </tr>\n",
       "  </thead>\n",
       "  <tbody>\n",
       "    <tr>\n",
       "      <th>0</th>\n",
       "      <td>Resort Hotel</td>\n",
       "      <td>0</td>\n",
       "      <td>342</td>\n",
       "      <td>2015</td>\n",
       "      <td>July</td>\n",
       "      <td>27</td>\n",
       "      <td>1</td>\n",
       "      <td>0</td>\n",
       "      <td>0</td>\n",
       "      <td>2</td>\n",
       "      <td>...</td>\n",
       "      <td>No Deposit</td>\n",
       "      <td>NaN</td>\n",
       "      <td>NaN</td>\n",
       "      <td>0</td>\n",
       "      <td>Transient</td>\n",
       "      <td>0.0</td>\n",
       "      <td>0</td>\n",
       "      <td>0</td>\n",
       "      <td>Check-Out</td>\n",
       "      <td>01-07-15</td>\n",
       "    </tr>\n",
       "    <tr>\n",
       "      <th>1</th>\n",
       "      <td>Resort Hotel</td>\n",
       "      <td>0</td>\n",
       "      <td>737</td>\n",
       "      <td>2015</td>\n",
       "      <td>July</td>\n",
       "      <td>27</td>\n",
       "      <td>1</td>\n",
       "      <td>0</td>\n",
       "      <td>0</td>\n",
       "      <td>2</td>\n",
       "      <td>...</td>\n",
       "      <td>No Deposit</td>\n",
       "      <td>NaN</td>\n",
       "      <td>NaN</td>\n",
       "      <td>0</td>\n",
       "      <td>Transient</td>\n",
       "      <td>0.0</td>\n",
       "      <td>0</td>\n",
       "      <td>0</td>\n",
       "      <td>Check-Out</td>\n",
       "      <td>01-07-15</td>\n",
       "    </tr>\n",
       "    <tr>\n",
       "      <th>2</th>\n",
       "      <td>Resort Hotel</td>\n",
       "      <td>0</td>\n",
       "      <td>7</td>\n",
       "      <td>2015</td>\n",
       "      <td>July</td>\n",
       "      <td>27</td>\n",
       "      <td>1</td>\n",
       "      <td>0</td>\n",
       "      <td>1</td>\n",
       "      <td>1</td>\n",
       "      <td>...</td>\n",
       "      <td>No Deposit</td>\n",
       "      <td>NaN</td>\n",
       "      <td>NaN</td>\n",
       "      <td>0</td>\n",
       "      <td>Transient</td>\n",
       "      <td>75.0</td>\n",
       "      <td>0</td>\n",
       "      <td>0</td>\n",
       "      <td>Check-Out</td>\n",
       "      <td>02-07-15</td>\n",
       "    </tr>\n",
       "    <tr>\n",
       "      <th>3</th>\n",
       "      <td>Resort Hotel</td>\n",
       "      <td>0</td>\n",
       "      <td>13</td>\n",
       "      <td>2015</td>\n",
       "      <td>July</td>\n",
       "      <td>27</td>\n",
       "      <td>1</td>\n",
       "      <td>0</td>\n",
       "      <td>1</td>\n",
       "      <td>1</td>\n",
       "      <td>...</td>\n",
       "      <td>No Deposit</td>\n",
       "      <td>304.0</td>\n",
       "      <td>NaN</td>\n",
       "      <td>0</td>\n",
       "      <td>Transient</td>\n",
       "      <td>75.0</td>\n",
       "      <td>0</td>\n",
       "      <td>0</td>\n",
       "      <td>Check-Out</td>\n",
       "      <td>02-07-15</td>\n",
       "    </tr>\n",
       "    <tr>\n",
       "      <th>4</th>\n",
       "      <td>Resort Hotel</td>\n",
       "      <td>0</td>\n",
       "      <td>14</td>\n",
       "      <td>2015</td>\n",
       "      <td>July</td>\n",
       "      <td>27</td>\n",
       "      <td>1</td>\n",
       "      <td>0</td>\n",
       "      <td>2</td>\n",
       "      <td>2</td>\n",
       "      <td>...</td>\n",
       "      <td>No Deposit</td>\n",
       "      <td>240.0</td>\n",
       "      <td>NaN</td>\n",
       "      <td>0</td>\n",
       "      <td>Transient</td>\n",
       "      <td>98.0</td>\n",
       "      <td>0</td>\n",
       "      <td>1</td>\n",
       "      <td>Check-Out</td>\n",
       "      <td>03-07-15</td>\n",
       "    </tr>\n",
       "  </tbody>\n",
       "</table>\n",
       "<p>5 rows × 32 columns</p>\n",
       "</div>"
      ],
      "text/plain": [
       "          hotel  is_canceled  lead_time  arrival_date_year arrival_date_month  \\\n",
       "0  Resort Hotel            0        342               2015               July   \n",
       "1  Resort Hotel            0        737               2015               July   \n",
       "2  Resort Hotel            0          7               2015               July   \n",
       "3  Resort Hotel            0         13               2015               July   \n",
       "4  Resort Hotel            0         14               2015               July   \n",
       "\n",
       "   arrival_date_week_number  arrival_date_day_of_month  \\\n",
       "0                        27                          1   \n",
       "1                        27                          1   \n",
       "2                        27                          1   \n",
       "3                        27                          1   \n",
       "4                        27                          1   \n",
       "\n",
       "   stays_in_weekend_nights  stays_in_week_nights  adults  ...  deposit_type  \\\n",
       "0                        0                     0       2  ...    No Deposit   \n",
       "1                        0                     0       2  ...    No Deposit   \n",
       "2                        0                     1       1  ...    No Deposit   \n",
       "3                        0                     1       1  ...    No Deposit   \n",
       "4                        0                     2       2  ...    No Deposit   \n",
       "\n",
       "   agent company days_in_waiting_list customer_type   adr  \\\n",
       "0    NaN     NaN                    0     Transient   0.0   \n",
       "1    NaN     NaN                    0     Transient   0.0   \n",
       "2    NaN     NaN                    0     Transient  75.0   \n",
       "3  304.0     NaN                    0     Transient  75.0   \n",
       "4  240.0     NaN                    0     Transient  98.0   \n",
       "\n",
       "   required_car_parking_spaces  total_of_special_requests  reservation_status  \\\n",
       "0                            0                          0           Check-Out   \n",
       "1                            0                          0           Check-Out   \n",
       "2                            0                          0           Check-Out   \n",
       "3                            0                          0           Check-Out   \n",
       "4                            0                          1           Check-Out   \n",
       "\n",
       "  reservation_status_date  \n",
       "0                01-07-15  \n",
       "1                01-07-15  \n",
       "2                02-07-15  \n",
       "3                02-07-15  \n",
       "4                03-07-15  \n",
       "\n",
       "[5 rows x 32 columns]"
      ]
     },
     "execution_count": 2,
     "metadata": {},
     "output_type": "execute_result"
    }
   ],
   "source": [
    "# Loading the dataset\n",
    "path = '../Data/hotel_bookings.csv'\n",
    "\n",
    "df = pd.read_csv(path)\n",
    "df.head()"
   ]
  },
  {
   "cell_type": "code",
   "execution_count": 3,
   "metadata": {},
   "outputs": [
    {
     "data": {
      "text/plain": [
       "(119390, 32)"
      ]
     },
     "execution_count": 3,
     "metadata": {},
     "output_type": "execute_result"
    }
   ],
   "source": [
    "df.shape"
   ]
  },
  {
   "cell_type": "code",
   "execution_count": 4,
   "metadata": {},
   "outputs": [
    {
     "data": {
      "text/plain": [
       "Index(['hotel', 'is_canceled', 'lead_time', 'arrival_date_year',\n",
       "       'arrival_date_month', 'arrival_date_week_number',\n",
       "       'arrival_date_day_of_month', 'stays_in_weekend_nights',\n",
       "       'stays_in_week_nights', 'adults', 'children', 'babies', 'meal',\n",
       "       'country', 'market_segment', 'distribution_channel',\n",
       "       'is_repeated_guest', 'previous_cancellations',\n",
       "       'previous_bookings_not_canceled', 'reserved_room_type',\n",
       "       'assigned_room_type', 'booking_changes', 'deposit_type', 'agent',\n",
       "       'company', 'days_in_waiting_list', 'customer_type', 'adr',\n",
       "       'required_car_parking_spaces', 'total_of_special_requests',\n",
       "       'reservation_status', 'reservation_status_date'],\n",
       "      dtype='object')"
      ]
     },
     "execution_count": 4,
     "metadata": {},
     "output_type": "execute_result"
    }
   ],
   "source": [
    "df.columns"
   ]
  },
  {
   "cell_type": "code",
   "execution_count": 5,
   "metadata": {},
   "outputs": [
    {
     "name": "stdout",
     "output_type": "stream",
     "text": [
      "<class 'pandas.core.frame.DataFrame'>\n",
      "RangeIndex: 119390 entries, 0 to 119389\n",
      "Data columns (total 32 columns):\n",
      " #   Column                          Non-Null Count   Dtype  \n",
      "---  ------                          --------------   -----  \n",
      " 0   hotel                           119390 non-null  object \n",
      " 1   is_canceled                     119390 non-null  int64  \n",
      " 2   lead_time                       119390 non-null  int64  \n",
      " 3   arrival_date_year               119390 non-null  int64  \n",
      " 4   arrival_date_month              119390 non-null  object \n",
      " 5   arrival_date_week_number        119390 non-null  int64  \n",
      " 6   arrival_date_day_of_month       119390 non-null  int64  \n",
      " 7   stays_in_weekend_nights         119390 non-null  int64  \n",
      " 8   stays_in_week_nights            119390 non-null  int64  \n",
      " 9   adults                          119390 non-null  int64  \n",
      " 10  children                        119386 non-null  float64\n",
      " 11  babies                          119390 non-null  int64  \n",
      " 12  meal                            119390 non-null  object \n",
      " 13  country                         118902 non-null  object \n",
      " 14  market_segment                  119390 non-null  object \n",
      " 15  distribution_channel            119390 non-null  object \n",
      " 16  is_repeated_guest               119390 non-null  int64  \n",
      " 17  previous_cancellations          119390 non-null  int64  \n",
      " 18  previous_bookings_not_canceled  119390 non-null  int64  \n",
      " 19  reserved_room_type              119390 non-null  object \n",
      " 20  assigned_room_type              119390 non-null  object \n",
      " 21  booking_changes                 119390 non-null  int64  \n",
      " 22  deposit_type                    119390 non-null  object \n",
      " 23  agent                           103050 non-null  float64\n",
      " 24  company                         6797 non-null    float64\n",
      " 25  days_in_waiting_list            119390 non-null  int64  \n",
      " 26  customer_type                   119390 non-null  object \n",
      " 27  adr                             119390 non-null  float64\n",
      " 28  required_car_parking_spaces     119390 non-null  int64  \n",
      " 29  total_of_special_requests       119390 non-null  int64  \n",
      " 30  reservation_status              119390 non-null  object \n",
      " 31  reservation_status_date         119390 non-null  object \n",
      "dtypes: float64(4), int64(16), object(12)\n",
      "memory usage: 29.1+ MB\n"
     ]
    }
   ],
   "source": [
    "df.info()"
   ]
  },
  {
   "cell_type": "markdown",
   "metadata": {},
   "source": [
    "#### Attributes Kept\n",
    "We narrowed down the dataset from 32 attributes to 11 key features that closely align with our objective and prediction task. \n",
    "\n",
    "- **Aggregated Features:**\n",
    "    - `num_of_guests`: This combines `adults`, `children`, and `babies` because the total number of guests is more likely to influence cancellations than each guest type separately.\n",
    "    - `length_of_stay`: This merges `stays_in_weekend_nights` and `stays_in_week_nights` to reflect the total duration of the stay, which is more significant than the specific days of the week.\n",
    "  \n",
    "- **Individual Attributes:**\n",
    "    - `hotel`: This captures whether the booking is for a resort or city hotel, which is important for understanding cancellation trends across different types of hotels (i.e. vacations vs. business trips).\n",
    "    - `is_repeated_guest`, `previous_cancellations`, `booking_changes`: These provide insights into guest behavior, including past cancellations and modifications, which could predict future cancellations.\n",
    "    - `adr`: The average daily rate paid by guests, which helps reveal if cancellations are more likely at certain price points.\n",
    "    - `deposit_type`: Reflects whether a deposit was made, which is important in determining the likelihood of follow-through on the reservation.\n",
    "    - `lead_time`: The amount of time between booking and arrival, a key factor in understanding guest decision patterns.\n",
    "    - `reservation_status_date`: We wanted to investigate if particular months in the year yield higher cancellation rates.\n",
    "        - This will be converted to `month_year` in order to extract monthly data per year. \n",
    "\n",
    "These attributes were selected based on their relevance to predicting cancellations and their potential to provide meaningful insights into guest behaviors and booking patterns.\n"
   ]
  },
  {
   "cell_type": "markdown",
   "metadata": {},
   "source": [
    "#### Attributes Collected in Data\n",
    "\n",
    "##### Categorical:\n",
    "- **`hotel`**: Indicates the type of hotel (resort or city).\n",
    "    - bool\n",
    "    - 0=Resort Hotel, 1=City Hotel\n",
    "- **`is_canceled`**: Specifies whether the booking was canceled or not.\n",
    "    - 0=not canceled, 1=canceled\n",
    "    - **target**: int\n",
    "- **`is_repeated_guest`**: Indicates whether a guest is a repeated visitor.\n",
    "    - 0=not repeated, 1=repeated\n",
    "    - bool\n",
    "- **`deposit_type`**: Indicates the type of deposit made for the booking.\n",
    "    - One-hot encoded\n",
    "    - 3 values: 'No Deposit', 'Refundable', 'Non Refund'\n",
    "- **`month_year`**: Date at which last status was set\n",
    "    - period[M] to denote monthly frequency for our analysis\n",
    "\n",
    "##### Numerical:\n",
    "- **`lead_time`**: Represents the number of days between the booking date and the arrival date.\n",
    "    - int\n",
    "- **`length_of_stay`**: Number of nights spent in total.\n",
    "    - int\n",
    "- **`num_of_guests`**: Total number of guests under reservation.\n",
    "    - int\n",
    "- **`previous_cancellations`**: Number of times the guest previously canceled their bookings.\n",
    "    - int\n",
    "- **`booking_changes`**: Number of changes made to the booking.\n",
    "    - int\n",
    "- **`adr`**: Represents the average daily rate (price per room) for the booking.\n",
    "    - float\n"
   ]
  },
  {
   "cell_type": "code",
   "execution_count": 6,
   "metadata": {},
   "outputs": [],
   "source": [
    "# Attributes Dropped\n",
    "df.drop(['arrival_date_year', 'arrival_date_month', \n",
    "         'arrival_date_week_number', \n",
    "         'arrival_date_day_of_month', \n",
    "         'agent', \n",
    "         'company', \n",
    "         'required_car_parking_spaces',\n",
    "         'meal',\n",
    "         'country',\n",
    "         'market_segment',\n",
    "         'distribution_channel',\n",
    "         'previous_bookings_not_canceled',\n",
    "         'reserved_room_type',\n",
    "         'assigned_room_type',\n",
    "         'days_in_waiting_list',\n",
    "         'customer_type',\n",
    "         'required_car_parking_spaces',\n",
    "         'reservation_status',\n",
    "         'total_of_special_requests'\n",
    "         ],\n",
    "        axis=1,\n",
    "        inplace=True)"
   ]
  },
  {
   "cell_type": "code",
   "execution_count": 7,
   "metadata": {},
   "outputs": [
    {
     "name": "stdout",
     "output_type": "stream",
     "text": [
      "<class 'pandas.core.frame.DataFrame'>\n",
      "RangeIndex: 119390 entries, 0 to 119389\n",
      "Data columns (total 14 columns):\n",
      " #   Column                   Non-Null Count   Dtype  \n",
      "---  ------                   --------------   -----  \n",
      " 0   hotel                    119390 non-null  object \n",
      " 1   is_canceled              119390 non-null  int64  \n",
      " 2   lead_time                119390 non-null  int64  \n",
      " 3   stays_in_weekend_nights  119390 non-null  int64  \n",
      " 4   stays_in_week_nights     119390 non-null  int64  \n",
      " 5   adults                   119390 non-null  int64  \n",
      " 6   children                 119386 non-null  float64\n",
      " 7   babies                   119390 non-null  int64  \n",
      " 8   is_repeated_guest        119390 non-null  int64  \n",
      " 9   previous_cancellations   119390 non-null  int64  \n",
      " 10  booking_changes          119390 non-null  int64  \n",
      " 11  deposit_type             119390 non-null  object \n",
      " 12  adr                      119390 non-null  float64\n",
      " 13  reservation_status_date  119390 non-null  object \n",
      "dtypes: float64(2), int64(9), object(3)\n",
      "memory usage: 12.8+ MB\n"
     ]
    }
   ],
   "source": [
    "df.info()"
   ]
  },
  {
   "cell_type": "markdown",
   "metadata": {},
   "source": [
    "### **2.2 Verifying Data Quality**"
   ]
  },
  {
   "cell_type": "markdown",
   "metadata": {},
   "source": [
    "#### Checking For Missing Values"
   ]
  },
  {
   "cell_type": "code",
   "execution_count": 8,
   "metadata": {},
   "outputs": [
    {
     "data": {
      "text/plain": [
       "hotel                      0\n",
       "is_canceled                0\n",
       "lead_time                  0\n",
       "stays_in_weekend_nights    0\n",
       "stays_in_week_nights       0\n",
       "adults                     0\n",
       "children                   4\n",
       "babies                     0\n",
       "is_repeated_guest          0\n",
       "previous_cancellations     0\n",
       "booking_changes            0\n",
       "deposit_type               0\n",
       "adr                        0\n",
       "reservation_status_date    0\n",
       "dtype: int64"
      ]
     },
     "execution_count": 8,
     "metadata": {},
     "output_type": "execute_result"
    }
   ],
   "source": [
    "df.isnull().sum()"
   ]
  },
  {
   "cell_type": "code",
   "execution_count": 9,
   "metadata": {},
   "outputs": [
    {
     "data": {
      "image/png": "[encoded data removed]",
      "text/plain": [
       "<Figure size 1000x600 with 1 Axes>"
      ]
     },
     "metadata": {},
     "output_type": "display_data"
    }
   ],
   "source": [
    "# Counting the missing values per col/attribute\n",
    "missing_counts = df.isnull().sum()\n",
    "\n",
    "plt.figure(figsize=(10, 6))\n",
    "missing_counts[missing_counts > 0].plot(kind='bar')\n",
    "plt.title('Missing Values Count by Column')\n",
    "plt.xlabel('Column')\n",
    "plt.ylabel('Number of Missing Values')\n",
    "plt.xticks(rotation=45)\n",
    "plt.show()"
   ]
  },
  {
   "cell_type": "markdown",
   "metadata": {},
   "source": [
    "#### Checking for Duplicates"
   ]
  },
  {
   "cell_type": "code",
   "execution_count": 10,
   "metadata": {},
   "outputs": [
    {
     "data": {
      "text/plain": [
       "np.int64(36539)"
      ]
     },
     "execution_count": 10,
     "metadata": {},
     "output_type": "execute_result"
    }
   ],
   "source": [
    "df.duplicated().sum()"
   ]
  },
  {
   "cell_type": "code",
   "execution_count": 11,
   "metadata": {},
   "outputs": [
    {
     "data": {
      "text/html": [
       "<div>\n",
       "<style scoped>\n",
       "    .dataframe tbody tr th:only-of-type {\n",
       "        vertical-align: middle;\n",
       "    }\n",
       "\n",
       "    .dataframe tbody tr th {\n",
       "        vertical-align: top;\n",
       "    }\n",
       "\n",
       "    .dataframe thead th {\n",
       "        text-align: right;\n",
       "    }\n",
       "</style>\n",
       "<table border=\"1\" class=\"dataframe\">\n",
       "  <thead>\n",
       "    <tr style=\"text-align: right;\">\n",
       "      <th></th>\n",
       "      <th>hotel</th>\n",
       "      <th>is_canceled</th>\n",
       "      <th>lead_time</th>\n",
       "      <th>stays_in_weekend_nights</th>\n",
       "      <th>stays_in_week_nights</th>\n",
       "      <th>adults</th>\n",
       "      <th>children</th>\n",
       "      <th>babies</th>\n",
       "      <th>is_repeated_guest</th>\n",
       "      <th>previous_cancellations</th>\n",
       "      <th>booking_changes</th>\n",
       "      <th>deposit_type</th>\n",
       "      <th>adr</th>\n",
       "      <th>reservation_status_date</th>\n",
       "    </tr>\n",
       "  </thead>\n",
       "  <tbody>\n",
       "    <tr>\n",
       "      <th>0</th>\n",
       "      <td>Resort Hotel</td>\n",
       "      <td>0</td>\n",
       "      <td>342</td>\n",
       "      <td>0</td>\n",
       "      <td>0</td>\n",
       "      <td>2</td>\n",
       "      <td>0.0</td>\n",
       "      <td>0</td>\n",
       "      <td>0</td>\n",
       "      <td>0</td>\n",
       "      <td>3</td>\n",
       "      <td>No Deposit</td>\n",
       "      <td>0.0</td>\n",
       "      <td>01-07-15</td>\n",
       "    </tr>\n",
       "    <tr>\n",
       "      <th>1</th>\n",
       "      <td>Resort Hotel</td>\n",
       "      <td>0</td>\n",
       "      <td>737</td>\n",
       "      <td>0</td>\n",
       "      <td>0</td>\n",
       "      <td>2</td>\n",
       "      <td>0.0</td>\n",
       "      <td>0</td>\n",
       "      <td>0</td>\n",
       "      <td>0</td>\n",
       "      <td>4</td>\n",
       "      <td>No Deposit</td>\n",
       "      <td>0.0</td>\n",
       "      <td>01-07-15</td>\n",
       "    </tr>\n",
       "    <tr>\n",
       "      <th>2</th>\n",
       "      <td>Resort Hotel</td>\n",
       "      <td>0</td>\n",
       "      <td>7</td>\n",
       "      <td>0</td>\n",
       "      <td>1</td>\n",
       "      <td>1</td>\n",
       "      <td>0.0</td>\n",
       "      <td>0</td>\n",
       "      <td>0</td>\n",
       "      <td>0</td>\n",
       "      <td>0</td>\n",
       "      <td>No Deposit</td>\n",
       "      <td>75.0</td>\n",
       "      <td>02-07-15</td>\n",
       "    </tr>\n",
       "    <tr>\n",
       "      <th>3</th>\n",
       "      <td>Resort Hotel</td>\n",
       "      <td>0</td>\n",
       "      <td>13</td>\n",
       "      <td>0</td>\n",
       "      <td>1</td>\n",
       "      <td>1</td>\n",
       "      <td>0.0</td>\n",
       "      <td>0</td>\n",
       "      <td>0</td>\n",
       "      <td>0</td>\n",
       "      <td>0</td>\n",
       "      <td>No Deposit</td>\n",
       "      <td>75.0</td>\n",
       "      <td>02-07-15</td>\n",
       "    </tr>\n",
       "    <tr>\n",
       "      <th>4</th>\n",
       "      <td>Resort Hotel</td>\n",
       "      <td>0</td>\n",
       "      <td>14</td>\n",
       "      <td>0</td>\n",
       "      <td>2</td>\n",
       "      <td>2</td>\n",
       "      <td>0.0</td>\n",
       "      <td>0</td>\n",
       "      <td>0</td>\n",
       "      <td>0</td>\n",
       "      <td>0</td>\n",
       "      <td>No Deposit</td>\n",
       "      <td>98.0</td>\n",
       "      <td>03-07-15</td>\n",
       "    </tr>\n",
       "    <tr>\n",
       "      <th>5</th>\n",
       "      <td>Resort Hotel</td>\n",
       "      <td>0</td>\n",
       "      <td>14</td>\n",
       "      <td>0</td>\n",
       "      <td>2</td>\n",
       "      <td>2</td>\n",
       "      <td>0.0</td>\n",
       "      <td>0</td>\n",
       "      <td>0</td>\n",
       "      <td>0</td>\n",
       "      <td>0</td>\n",
       "      <td>No Deposit</td>\n",
       "      <td>98.0</td>\n",
       "      <td>03-07-15</td>\n",
       "    </tr>\n",
       "  </tbody>\n",
       "</table>\n",
       "</div>"
      ],
      "text/plain": [
       "          hotel  is_canceled  lead_time  stays_in_weekend_nights  \\\n",
       "0  Resort Hotel            0        342                        0   \n",
       "1  Resort Hotel            0        737                        0   \n",
       "2  Resort Hotel            0          7                        0   \n",
       "3  Resort Hotel            0         13                        0   \n",
       "4  Resort Hotel            0         14                        0   \n",
       "5  Resort Hotel            0         14                        0   \n",
       "\n",
       "   stays_in_week_nights  adults  children  babies  is_repeated_guest  \\\n",
       "0                     0       2       0.0       0                  0   \n",
       "1                     0       2       0.0       0                  0   \n",
       "2                     1       1       0.0       0                  0   \n",
       "3                     1       1       0.0       0                  0   \n",
       "4                     2       2       0.0       0                  0   \n",
       "5                     2       2       0.0       0                  0   \n",
       "\n",
       "   previous_cancellations  booking_changes deposit_type   adr  \\\n",
       "0                       0                3   No Deposit   0.0   \n",
       "1                       0                4   No Deposit   0.0   \n",
       "2                       0                0   No Deposit  75.0   \n",
       "3                       0                0   No Deposit  75.0   \n",
       "4                       0                0   No Deposit  98.0   \n",
       "5                       0                0   No Deposit  98.0   \n",
       "\n",
       "  reservation_status_date  \n",
       "0                01-07-15  \n",
       "1                01-07-15  \n",
       "2                02-07-15  \n",
       "3                02-07-15  \n",
       "4                03-07-15  \n",
       "5                03-07-15  "
      ]
     },
     "execution_count": 11,
     "metadata": {},
     "output_type": "execute_result"
    }
   ],
   "source": [
    "# Example: Last two entries here are duplicates!\n",
    "df.head(6)"
   ]
  },
  {
   "cell_type": "markdown",
   "metadata": {},
   "source": [
    "### Handling Missing and Duplicated Data\n",
    "\n",
    "Before proceeding with feature aggregation, it’s crucial to ensure data quality by addressing missing and duplicated values.\n",
    "\n",
    "#### Missing Data:\n",
    "- **Identified Issue**: The `children` attribute had 4 missing values out of 119,390 entries. These missing values were likely caused by users leaving the \"number of children\" field blank during the booking process.\n",
    "- **Analysis and Visualization**: To verify this, we visualized missing data using a bar plot, which showed that only the `children` column had missing entries, and the extent of missingness was minimal.\n",
    "- **Justification for Imputation**: Given that there were only 4 missing values and that these likely represent bookings without children, we imputed the missing values with `0`. Since the impact is minor and the missing data represents less than 0.01% of the total entries, this method prevents skewing the dataset without requiring more advanced imputation techniques like KNN, which would be unnecessary for such a small fraction.\n",
    "\n",
    "#### Duplicated Data:\n",
    "- **Identified Issue**: We detected 41,787 duplicate entries out of 119,390 total entries (about 35% of the data). \n",
    "- **Potential Causes**: Duplicates may have resulted from merging different systems or accidental/intentional multiple bookings by the same guests.\n",
    "- **Visualization**: We confirmed the presence of duplicates by simply looking at the first 6 entries in the dataset and spotting a duplicate in the 5th and 6th entries.\n",
    "- **Justification for Elimination**: After examining the dataset, we decided to drop all duplicates. The reason for this is to prevent over-representation of certain guests or bookings, which could introduce bias in our model. By removing these 41,787 duplicate entries, we ensure that each entry represents a unique booking instance. After cleaning, we have over 70,000 unique entries, which remains a robust dataset for analysis."
   ]
  },
  {
   "cell_type": "markdown",
   "metadata": {},
   "source": [
    "### Converting to Appropriate Data Types\n",
    "- Now that we've discovered missing and duplicated data, we can proceed to impute and eliminate, respectively.\n",
    "- But first, we'll make sure to convert to appropriate data types if needed!\n",
    "    - We also need to aggregate a few attributes"
   ]
  },
  {
   "cell_type": "code",
   "execution_count": 12,
   "metadata": {},
   "outputs": [],
   "source": [
    "# Converting to Appropriate Data Types\n",
    "df['hotel'] = df['hotel'].map({'Resort Hotel': 0, 'City Hotel': 1}).astype('bool')\n",
    "df['is_repeated_guest'] = df['is_repeated_guest'].astype('bool')\n",
    "df = pd.get_dummies(df, columns=['deposit_type'], prefix=['deposit_type'])\n",
    "df['children'] = df['children'].fillna(0).astype('int') # imputing children attribute with 0\n",
    "\n",
    "# Converting reservation_status_date to month_year\n",
    "df['reservation_status_date'] = pd.to_datetime(df['reservation_status_date'], format='%d-%m-%y', errors='coerce')\n",
    "\n",
    "df['month_year'] = df['reservation_status_date'].dt.to_period('M')\n",
    "start_period = pd.Period('2015-07', freq='M')\n",
    "df = df[df['month_year'] >= start_period]"
   ]
  },
  {
   "cell_type": "code",
   "execution_count": 13,
   "metadata": {},
   "outputs": [],
   "source": [
    "# Aggregation of 'adults', 'children', and 'babies' into 'num_of_guests'\n",
    "df['num_of_guests'] = df['adults'] + df['children'] + df['babies']\n",
    "\n",
    "# Aggregation of 'stays_in_weekend_nights' and 'stays_in_week_nights' into 'length_of_stay'\n",
    "df['length_of_stay'] = df['stays_in_weekend_nights'] + df['stays_in_week_nights']\n",
    "\n",
    "# Dropping the attributes we aggregated\n",
    "df = df.drop(columns=['adults', 'children', 'babies', 'stays_in_weekend_nights', 'stays_in_week_nights', 'reservation_status_date'])"
   ]
  },
  {
   "cell_type": "code",
   "execution_count": 14,
   "metadata": {},
   "outputs": [
    {
     "name": "stdout",
     "output_type": "stream",
     "text": [
      "<class 'pandas.core.frame.DataFrame'>\n",
      "Index: 117040 entries, 0 to 119389\n",
      "Data columns (total 13 columns):\n",
      " #   Column                   Non-Null Count   Dtype    \n",
      "---  ------                   --------------   -----    \n",
      " 0   hotel                    117040 non-null  bool     \n",
      " 1   is_canceled              117040 non-null  int64    \n",
      " 2   lead_time                117040 non-null  int64    \n",
      " 3   is_repeated_guest        117040 non-null  bool     \n",
      " 4   previous_cancellations   117040 non-null  int64    \n",
      " 5   booking_changes          117040 non-null  int64    \n",
      " 6   adr                      117040 non-null  float64  \n",
      " 7   deposit_type_No Deposit  117040 non-null  bool     \n",
      " 8   deposit_type_Non Refund  117040 non-null  bool     \n",
      " 9   deposit_type_Refundable  117040 non-null  bool     \n",
      " 10  month_year               117040 non-null  period[M]\n",
      " 11  num_of_guests            117040 non-null  int64    \n",
      " 12  length_of_stay           117040 non-null  int64    \n",
      "dtypes: bool(5), float64(1), int64(6), period[M](1)\n",
      "memory usage: 8.6 MB\n"
     ]
    }
   ],
   "source": [
    "df.info()"
   ]
  },
  {
   "cell_type": "code",
   "execution_count": 15,
   "metadata": {},
   "outputs": [
    {
     "data": {
      "text/plain": [
       "hotel                      0\n",
       "is_canceled                0\n",
       "lead_time                  0\n",
       "is_repeated_guest          0\n",
       "previous_cancellations     0\n",
       "booking_changes            0\n",
       "adr                        0\n",
       "deposit_type_No Deposit    0\n",
       "deposit_type_Non Refund    0\n",
       "deposit_type_Refundable    0\n",
       "month_year                 0\n",
       "num_of_guests              0\n",
       "length_of_stay             0\n",
       "dtype: int64"
      ]
     },
     "execution_count": 15,
     "metadata": {},
     "output_type": "execute_result"
    }
   ],
   "source": [
    "df.isnull().sum()"
   ]
  },
  {
   "cell_type": "markdown",
   "metadata": {},
   "source": [
    "- No more null values!"
   ]
  },
  {
   "cell_type": "code",
   "execution_count": 16,
   "metadata": {},
   "outputs": [],
   "source": [
    "# Dropping Duplicates\n",
    "df.drop_duplicates(inplace=True)"
   ]
  },
  {
   "cell_type": "code",
   "execution_count": 17,
   "metadata": {},
   "outputs": [
    {
     "data": {
      "text/plain": [
       "np.int64(0)"
      ]
     },
     "execution_count": 17,
     "metadata": {},
     "output_type": "execute_result"
    }
   ],
   "source": [
    "df.duplicated().sum()"
   ]
  },
  {
   "cell_type": "markdown",
   "metadata": {},
   "source": [
    "- No more duplicates!"
   ]
  },
  {
   "cell_type": "code",
   "execution_count": 18,
   "metadata": {},
   "outputs": [
    {
     "name": "stdout",
     "output_type": "stream",
     "text": [
      "<class 'pandas.core.frame.DataFrame'>\n",
      "Index: 79595 entries, 0 to 119389\n",
      "Data columns (total 13 columns):\n",
      " #   Column                   Non-Null Count  Dtype    \n",
      "---  ------                   --------------  -----    \n",
      " 0   hotel                    79595 non-null  bool     \n",
      " 1   is_canceled              79595 non-null  int64    \n",
      " 2   lead_time                79595 non-null  int64    \n",
      " 3   is_repeated_guest        79595 non-null  bool     \n",
      " 4   previous_cancellations   79595 non-null  int64    \n",
      " 5   booking_changes          79595 non-null  int64    \n",
      " 6   adr                      79595 non-null  float64  \n",
      " 7   deposit_type_No Deposit  79595 non-null  bool     \n",
      " 8   deposit_type_Non Refund  79595 non-null  bool     \n",
      " 9   deposit_type_Refundable  79595 non-null  bool     \n",
      " 10  month_year               79595 non-null  period[M]\n",
      " 11  num_of_guests            79595 non-null  int64    \n",
      " 12  length_of_stay           79595 non-null  int64    \n",
      "dtypes: bool(5), float64(1), int64(6), period[M](1)\n",
      "memory usage: 5.8 MB\n"
     ]
    }
   ],
   "source": [
    "df.info()"
   ]
  },
  {
   "cell_type": "code",
   "execution_count": 19,
   "metadata": {},
   "outputs": [
    {
     "data": {
      "text/html": [
       "<div>\n",
       "<style scoped>\n",
       "    .dataframe tbody tr th:only-of-type {\n",
       "        vertical-align: middle;\n",
       "    }\n",
       "\n",
       "    .dataframe tbody tr th {\n",
       "        vertical-align: top;\n",
       "    }\n",
       "\n",
       "    .dataframe thead th {\n",
       "        text-align: right;\n",
       "    }\n",
       "</style>\n",
       "<table border=\"1\" class=\"dataframe\">\n",
       "  <thead>\n",
       "    <tr style=\"text-align: right;\">\n",
       "      <th></th>\n",
       "      <th>hotel</th>\n",
       "      <th>is_canceled</th>\n",
       "      <th>lead_time</th>\n",
       "      <th>is_repeated_guest</th>\n",
       "      <th>previous_cancellations</th>\n",
       "      <th>booking_changes</th>\n",
       "      <th>adr</th>\n",
       "      <th>deposit_type_No Deposit</th>\n",
       "      <th>deposit_type_Non Refund</th>\n",
       "      <th>deposit_type_Refundable</th>\n",
       "      <th>month_year</th>\n",
       "      <th>num_of_guests</th>\n",
       "      <th>length_of_stay</th>\n",
       "    </tr>\n",
       "  </thead>\n",
       "  <tbody>\n",
       "    <tr>\n",
       "      <th>79590</th>\n",
       "      <td>True</td>\n",
       "      <td>0</td>\n",
       "      <td>23</td>\n",
       "      <td>False</td>\n",
       "      <td>0</td>\n",
       "      <td>0</td>\n",
       "      <td>96.14</td>\n",
       "      <td>True</td>\n",
       "      <td>False</td>\n",
       "      <td>False</td>\n",
       "      <td>2017-09</td>\n",
       "      <td>2</td>\n",
       "      <td>7</td>\n",
       "    </tr>\n",
       "    <tr>\n",
       "      <th>79591</th>\n",
       "      <td>True</td>\n",
       "      <td>0</td>\n",
       "      <td>102</td>\n",
       "      <td>False</td>\n",
       "      <td>0</td>\n",
       "      <td>0</td>\n",
       "      <td>225.43</td>\n",
       "      <td>True</td>\n",
       "      <td>False</td>\n",
       "      <td>False</td>\n",
       "      <td>2017-09</td>\n",
       "      <td>3</td>\n",
       "      <td>7</td>\n",
       "    </tr>\n",
       "    <tr>\n",
       "      <th>79592</th>\n",
       "      <td>True</td>\n",
       "      <td>0</td>\n",
       "      <td>34</td>\n",
       "      <td>False</td>\n",
       "      <td>0</td>\n",
       "      <td>0</td>\n",
       "      <td>157.71</td>\n",
       "      <td>True</td>\n",
       "      <td>False</td>\n",
       "      <td>False</td>\n",
       "      <td>2017-09</td>\n",
       "      <td>2</td>\n",
       "      <td>7</td>\n",
       "    </tr>\n",
       "    <tr>\n",
       "      <th>79593</th>\n",
       "      <td>True</td>\n",
       "      <td>0</td>\n",
       "      <td>109</td>\n",
       "      <td>False</td>\n",
       "      <td>0</td>\n",
       "      <td>0</td>\n",
       "      <td>104.40</td>\n",
       "      <td>True</td>\n",
       "      <td>False</td>\n",
       "      <td>False</td>\n",
       "      <td>2017-09</td>\n",
       "      <td>2</td>\n",
       "      <td>7</td>\n",
       "    </tr>\n",
       "    <tr>\n",
       "      <th>79594</th>\n",
       "      <td>True</td>\n",
       "      <td>0</td>\n",
       "      <td>205</td>\n",
       "      <td>False</td>\n",
       "      <td>0</td>\n",
       "      <td>0</td>\n",
       "      <td>151.20</td>\n",
       "      <td>True</td>\n",
       "      <td>False</td>\n",
       "      <td>False</td>\n",
       "      <td>2017-09</td>\n",
       "      <td>2</td>\n",
       "      <td>9</td>\n",
       "    </tr>\n",
       "  </tbody>\n",
       "</table>\n",
       "</div>"
      ],
      "text/plain": [
       "       hotel  is_canceled  lead_time  is_repeated_guest  \\\n",
       "79590   True            0         23              False   \n",
       "79591   True            0        102              False   \n",
       "79592   True            0         34              False   \n",
       "79593   True            0        109              False   \n",
       "79594   True            0        205              False   \n",
       "\n",
       "       previous_cancellations  booking_changes     adr  \\\n",
       "79590                       0                0   96.14   \n",
       "79591                       0                0  225.43   \n",
       "79592                       0                0  157.71   \n",
       "79593                       0                0  104.40   \n",
       "79594                       0                0  151.20   \n",
       "\n",
       "       deposit_type_No Deposit  deposit_type_Non Refund  \\\n",
       "79590                     True                    False   \n",
       "79591                     True                    False   \n",
       "79592                     True                    False   \n",
       "79593                     True                    False   \n",
       "79594                     True                    False   \n",
       "\n",
       "       deposit_type_Refundable month_year  num_of_guests  length_of_stay  \n",
       "79590                    False    2017-09              2               7  \n",
       "79591                    False    2017-09              3               7  \n",
       "79592                    False    2017-09              2               7  \n",
       "79593                    False    2017-09              2               7  \n",
       "79594                    False    2017-09              2               9  "
      ]
     },
     "execution_count": 19,
     "metadata": {},
     "output_type": "execute_result"
    }
   ],
   "source": [
    "# Reset the index just so it's easier to read the rows/entries\n",
    "df = df.reset_index(drop=True)\n",
    "df.tail()"
   ]
  },
  {
   "cell_type": "code",
   "execution_count": 20,
   "metadata": {},
   "outputs": [
    {
     "name": "stdout",
     "output_type": "stream",
     "text": [
      "<class 'pandas.core.frame.DataFrame'>\n",
      "RangeIndex: 79595 entries, 0 to 79594\n",
      "Data columns (total 13 columns):\n",
      " #   Column                   Non-Null Count  Dtype    \n",
      "---  ------                   --------------  -----    \n",
      " 0   hotel                    79595 non-null  bool     \n",
      " 1   is_canceled              79595 non-null  int64    \n",
      " 2   lead_time                79595 non-null  int64    \n",
      " 3   is_repeated_guest        79595 non-null  bool     \n",
      " 4   previous_cancellations   79595 non-null  int64    \n",
      " 5   booking_changes          79595 non-null  int64    \n",
      " 6   adr                      79595 non-null  float64  \n",
      " 7   deposit_type_No Deposit  79595 non-null  bool     \n",
      " 8   deposit_type_Non Refund  79595 non-null  bool     \n",
      " 9   deposit_type_Refundable  79595 non-null  bool     \n",
      " 10  month_year               79595 non-null  period[M]\n",
      " 11  num_of_guests            79595 non-null  int64    \n",
      " 12  length_of_stay           79595 non-null  int64    \n",
      "dtypes: bool(5), float64(1), int64(6), period[M](1)\n",
      "memory usage: 5.2 MB\n"
     ]
    }
   ],
   "source": [
    "df.info()"
   ]
  },
  {
   "cell_type": "markdown",
   "metadata": {},
   "source": [
    "### One Last Thing: Checking For Outliers"
   ]
  },
  {
   "cell_type": "code",
   "execution_count": 21,
   "metadata": {},
   "outputs": [
    {
     "data": {
      "text/html": [
       "<div>\n",
       "<style scoped>\n",
       "    .dataframe tbody tr th:only-of-type {\n",
       "        vertical-align: middle;\n",
       "    }\n",
       "\n",
       "    .dataframe tbody tr th {\n",
       "        vertical-align: top;\n",
       "    }\n",
       "\n",
       "    .dataframe thead th {\n",
       "        text-align: right;\n",
       "    }\n",
       "</style>\n",
       "<table border=\"1\" class=\"dataframe\">\n",
       "  <thead>\n",
       "    <tr style=\"text-align: right;\">\n",
       "      <th></th>\n",
       "      <th>is_canceled</th>\n",
       "      <th>lead_time</th>\n",
       "      <th>previous_cancellations</th>\n",
       "      <th>booking_changes</th>\n",
       "      <th>adr</th>\n",
       "      <th>num_of_guests</th>\n",
       "      <th>length_of_stay</th>\n",
       "    </tr>\n",
       "  </thead>\n",
       "  <tbody>\n",
       "    <tr>\n",
       "      <th>count</th>\n",
       "      <td>79595.000000</td>\n",
       "      <td>79595.000000</td>\n",
       "      <td>79595.000000</td>\n",
       "      <td>79595.000000</td>\n",
       "      <td>79595.000000</td>\n",
       "      <td>79595.000000</td>\n",
       "      <td>79595.00000</td>\n",
       "    </tr>\n",
       "    <tr>\n",
       "      <th>mean</th>\n",
       "      <td>0.285998</td>\n",
       "      <td>80.013820</td>\n",
       "      <td>0.026798</td>\n",
       "      <td>0.280872</td>\n",
       "      <td>108.351345</td>\n",
       "      <td>2.050204</td>\n",
       "      <td>3.72492</td>\n",
       "    </tr>\n",
       "    <tr>\n",
       "      <th>std</th>\n",
       "      <td>0.451891</td>\n",
       "      <td>84.594216</td>\n",
       "      <td>0.301762</td>\n",
       "      <td>0.746215</td>\n",
       "      <td>55.764306</td>\n",
       "      <td>0.715324</td>\n",
       "      <td>2.79611</td>\n",
       "    </tr>\n",
       "    <tr>\n",
       "      <th>min</th>\n",
       "      <td>0.000000</td>\n",
       "      <td>0.000000</td>\n",
       "      <td>0.000000</td>\n",
       "      <td>0.000000</td>\n",
       "      <td>-6.380000</td>\n",
       "      <td>0.000000</td>\n",
       "      <td>0.00000</td>\n",
       "    </tr>\n",
       "    <tr>\n",
       "      <th>25%</th>\n",
       "      <td>0.000000</td>\n",
       "      <td>12.000000</td>\n",
       "      <td>0.000000</td>\n",
       "      <td>0.000000</td>\n",
       "      <td>74.000000</td>\n",
       "      <td>2.000000</td>\n",
       "      <td>2.00000</td>\n",
       "    </tr>\n",
       "    <tr>\n",
       "      <th>50%</th>\n",
       "      <td>0.000000</td>\n",
       "      <td>50.000000</td>\n",
       "      <td>0.000000</td>\n",
       "      <td>0.000000</td>\n",
       "      <td>99.800000</td>\n",
       "      <td>2.000000</td>\n",
       "      <td>3.00000</td>\n",
       "    </tr>\n",
       "    <tr>\n",
       "      <th>75%</th>\n",
       "      <td>1.000000</td>\n",
       "      <td>125.000000</td>\n",
       "      <td>0.000000</td>\n",
       "      <td>0.000000</td>\n",
       "      <td>136.000000</td>\n",
       "      <td>2.000000</td>\n",
       "      <td>5.00000</td>\n",
       "    </tr>\n",
       "    <tr>\n",
       "      <th>max</th>\n",
       "      <td>1.000000</td>\n",
       "      <td>737.000000</td>\n",
       "      <td>13.000000</td>\n",
       "      <td>21.000000</td>\n",
       "      <td>5400.000000</td>\n",
       "      <td>20.000000</td>\n",
       "      <td>69.00000</td>\n",
       "    </tr>\n",
       "  </tbody>\n",
       "</table>\n",
       "</div>"
      ],
      "text/plain": [
       "        is_canceled     lead_time  previous_cancellations  booking_changes  \\\n",
       "count  79595.000000  79595.000000            79595.000000     79595.000000   \n",
       "mean       0.285998     80.013820                0.026798         0.280872   \n",
       "std        0.451891     84.594216                0.301762         0.746215   \n",
       "min        0.000000      0.000000                0.000000         0.000000   \n",
       "25%        0.000000     12.000000                0.000000         0.000000   \n",
       "50%        0.000000     50.000000                0.000000         0.000000   \n",
       "75%        1.000000    125.000000                0.000000         0.000000   \n",
       "max        1.000000    737.000000               13.000000        21.000000   \n",
       "\n",
       "                adr  num_of_guests  length_of_stay  \n",
       "count  79595.000000   79595.000000     79595.00000  \n",
       "mean     108.351345       2.050204         3.72492  \n",
       "std       55.764306       0.715324         2.79611  \n",
       "min       -6.380000       0.000000         0.00000  \n",
       "25%       74.000000       2.000000         2.00000  \n",
       "50%       99.800000       2.000000         3.00000  \n",
       "75%      136.000000       2.000000         5.00000  \n",
       "max     5400.000000      20.000000        69.00000  "
      ]
     },
     "execution_count": 21,
     "metadata": {},
     "output_type": "execute_result"
    }
   ],
   "source": [
    "df.describe()"
   ]
  },
  {
   "cell_type": "markdown",
   "metadata": {},
   "source": [
    "- There seems to be extreme values found in the following attributes: `lead_time` with a max of 737 and mean of 84.37, and `adr` with a max of 5400 and mean of 110.14.\n",
    "    - These two can have the most significant negative impact on the analysis of predicting cancellations as it may bias towards these values. \n",
    "    - In addition, `adr` has a min value of -6.38 which seems like a data entry error unless the hotel paid someone $6.38 to reserve a room (highly unlikely)\n",
    "        - In this case, we'll ensure `adr` values are greater than 0 and remove any entries that are not.\n",
    "- We decided to apply `IQR` as `lead_time` and `adr` are skewed and using this method would be more robust.\n",
    "    - `lead_time` (most people book within a short time, but a few might book very far in advanced)\n",
    "    - `adr` (high-end bookings or promotions that could cause large deviations)"
   ]
  },
  {
   "cell_type": "code",
   "execution_count": 22,
   "metadata": {},
   "outputs": [],
   "source": [
    "# Resolving the negative value in adr\n",
    "df = df[df['adr'] >= 0]"
   ]
  },
  {
   "cell_type": "code",
   "execution_count": 23,
   "metadata": {},
   "outputs": [],
   "source": [
    "# IQR Function\n",
    "def remove_outliers_iqr(df, column):\n",
    "    Q1 = df[column].quantile(0.25)\n",
    "    Q3 = df[column].quantile(0.75)\n",
    "    IQR = Q3 - Q1\n",
    "    lower_bound = Q1 - 1.5 * IQR\n",
    "    upper_bound = Q3 + 1.5 * IQR\n",
    "    \n",
    "    df= df[(df[column] >= lower_bound) & (df[column] <= upper_bound)]\n",
    "    return df"
   ]
  },
  {
   "cell_type": "code",
   "execution_count": 24,
   "metadata": {},
   "outputs": [],
   "source": [
    "columns_to_filter = ['lead_time', 'adr']\n",
    "\n",
    "for col in columns_to_filter:\n",
    "    df = remove_outliers_iqr(df, col)"
   ]
  },
  {
   "cell_type": "code",
   "execution_count": 25,
   "metadata": {},
   "outputs": [],
   "source": [
    "df = df.reset_index(drop=True)"
   ]
  },
  {
   "cell_type": "code",
   "execution_count": 26,
   "metadata": {},
   "outputs": [
    {
     "data": {
      "text/html": [
       "<div>\n",
       "<style scoped>\n",
       "    .dataframe tbody tr th:only-of-type {\n",
       "        vertical-align: middle;\n",
       "    }\n",
       "\n",
       "    .dataframe tbody tr th {\n",
       "        vertical-align: top;\n",
       "    }\n",
       "\n",
       "    .dataframe thead th {\n",
       "        text-align: right;\n",
       "    }\n",
       "</style>\n",
       "<table border=\"1\" class=\"dataframe\">\n",
       "  <thead>\n",
       "    <tr style=\"text-align: right;\">\n",
       "      <th></th>\n",
       "      <th>is_canceled</th>\n",
       "      <th>lead_time</th>\n",
       "      <th>previous_cancellations</th>\n",
       "      <th>booking_changes</th>\n",
       "      <th>adr</th>\n",
       "      <th>num_of_guests</th>\n",
       "      <th>length_of_stay</th>\n",
       "    </tr>\n",
       "  </thead>\n",
       "  <tbody>\n",
       "    <tr>\n",
       "      <th>count</th>\n",
       "      <td>75208.000000</td>\n",
       "      <td>75208.000000</td>\n",
       "      <td>75208.000000</td>\n",
       "      <td>75208.000000</td>\n",
       "      <td>75208.000000</td>\n",
       "      <td>75208.000000</td>\n",
       "      <td>75208.000000</td>\n",
       "    </tr>\n",
       "    <tr>\n",
       "      <th>mean</th>\n",
       "      <td>0.277244</td>\n",
       "      <td>72.941176</td>\n",
       "      <td>0.027244</td>\n",
       "      <td>0.272032</td>\n",
       "      <td>103.952338</td>\n",
       "      <td>2.018974</td>\n",
       "      <td>3.666551</td>\n",
       "    </tr>\n",
       "    <tr>\n",
       "      <th>std</th>\n",
       "      <td>0.447641</td>\n",
       "      <td>72.948041</td>\n",
       "      <td>0.308534</td>\n",
       "      <td>0.730598</td>\n",
       "      <td>45.739756</td>\n",
       "      <td>0.680706</td>\n",
       "      <td>2.760397</td>\n",
       "    </tr>\n",
       "    <tr>\n",
       "      <th>min</th>\n",
       "      <td>0.000000</td>\n",
       "      <td>0.000000</td>\n",
       "      <td>0.000000</td>\n",
       "      <td>0.000000</td>\n",
       "      <td>0.000000</td>\n",
       "      <td>0.000000</td>\n",
       "      <td>0.000000</td>\n",
       "    </tr>\n",
       "    <tr>\n",
       "      <th>25%</th>\n",
       "      <td>0.000000</td>\n",
       "      <td>12.000000</td>\n",
       "      <td>0.000000</td>\n",
       "      <td>0.000000</td>\n",
       "      <td>73.000000</td>\n",
       "      <td>2.000000</td>\n",
       "      <td>2.000000</td>\n",
       "    </tr>\n",
       "    <tr>\n",
       "      <th>50%</th>\n",
       "      <td>0.000000</td>\n",
       "      <td>48.000000</td>\n",
       "      <td>0.000000</td>\n",
       "      <td>0.000000</td>\n",
       "      <td>99.000000</td>\n",
       "      <td>2.000000</td>\n",
       "      <td>3.000000</td>\n",
       "    </tr>\n",
       "    <tr>\n",
       "      <th>75%</th>\n",
       "      <td>1.000000</td>\n",
       "      <td>118.000000</td>\n",
       "      <td>0.000000</td>\n",
       "      <td>0.000000</td>\n",
       "      <td>132.600000</td>\n",
       "      <td>2.000000</td>\n",
       "      <td>5.000000</td>\n",
       "    </tr>\n",
       "    <tr>\n",
       "      <th>max</th>\n",
       "      <td>1.000000</td>\n",
       "      <td>294.000000</td>\n",
       "      <td>13.000000</td>\n",
       "      <td>21.000000</td>\n",
       "      <td>229.710000</td>\n",
       "      <td>12.000000</td>\n",
       "      <td>69.000000</td>\n",
       "    </tr>\n",
       "  </tbody>\n",
       "</table>\n",
       "</div>"
      ],
      "text/plain": [
       "        is_canceled     lead_time  previous_cancellations  booking_changes  \\\n",
       "count  75208.000000  75208.000000            75208.000000     75208.000000   \n",
       "mean       0.277244     72.941176                0.027244         0.272032   \n",
       "std        0.447641     72.948041                0.308534         0.730598   \n",
       "min        0.000000      0.000000                0.000000         0.000000   \n",
       "25%        0.000000     12.000000                0.000000         0.000000   \n",
       "50%        0.000000     48.000000                0.000000         0.000000   \n",
       "75%        1.000000    118.000000                0.000000         0.000000   \n",
       "max        1.000000    294.000000               13.000000        21.000000   \n",
       "\n",
       "                adr  num_of_guests  length_of_stay  \n",
       "count  75208.000000   75208.000000    75208.000000  \n",
       "mean     103.952338       2.018974        3.666551  \n",
       "std       45.739756       0.680706        2.760397  \n",
       "min        0.000000       0.000000        0.000000  \n",
       "25%       73.000000       2.000000        2.000000  \n",
       "50%       99.000000       2.000000        3.000000  \n",
       "75%      132.600000       2.000000        5.000000  \n",
       "max      229.710000      12.000000       69.000000  "
      ]
     },
     "execution_count": 26,
     "metadata": {},
     "output_type": "execute_result"
    }
   ],
   "source": [
    "df.describe()"
   ]
  },
  {
   "cell_type": "markdown",
   "metadata": {},
   "source": [
    "- Extreme outliers from `lead_time` and `adr` have been removed! "
   ]
  },
  {
   "cell_type": "code",
   "execution_count": 27,
   "metadata": {},
   "outputs": [
    {
     "name": "stdout",
     "output_type": "stream",
     "text": [
      "<class 'pandas.core.frame.DataFrame'>\n",
      "RangeIndex: 75208 entries, 0 to 75207\n",
      "Data columns (total 13 columns):\n",
      " #   Column                   Non-Null Count  Dtype    \n",
      "---  ------                   --------------  -----    \n",
      " 0   hotel                    75208 non-null  bool     \n",
      " 1   is_canceled              75208 non-null  int64    \n",
      " 2   lead_time                75208 non-null  int64    \n",
      " 3   is_repeated_guest        75208 non-null  bool     \n",
      " 4   previous_cancellations   75208 non-null  int64    \n",
      " 5   booking_changes          75208 non-null  int64    \n",
      " 6   adr                      75208 non-null  float64  \n",
      " 7   deposit_type_No Deposit  75208 non-null  bool     \n",
      " 8   deposit_type_Non Refund  75208 non-null  bool     \n",
      " 9   deposit_type_Refundable  75208 non-null  bool     \n",
      " 10  month_year               75208 non-null  period[M]\n",
      " 11  num_of_guests            75208 non-null  int64    \n",
      " 12  length_of_stay           75208 non-null  int64    \n",
      "dtypes: bool(5), float64(1), int64(6), period[M](1)\n",
      "memory usage: 4.9 MB\n"
     ]
    }
   ],
   "source": [
    "df.info()"
   ]
  },
  {
   "cell_type": "markdown",
   "metadata": {},
   "source": [
    "### Data Understanding Summary\n",
    "\n",
    "- **Data Types**: All attributes are now represented in their appropriate data types.\n",
    "- **Feature Aggregation**: Aggregated attributes as needed for efficiency.\n",
    "- **Missing Values**: Imputed missing values to ensure completeness.\n",
    "- **Duplicates**: Removed duplicate entries to avoid over-representation and bias."
   ]
  },
  {
   "cell_type": "markdown",
   "metadata": {},
   "source": [
    "# **3. Data Visualization (4.5 points total)**\n",
    "    - [2 points] Visualize basic feature distributions. \n",
    "        - That is, plot the dynamic range and exploratory distribution plots (like boxplots, histograms, kernel density estimation) to better understand the data. \n",
    "        - Describe anything meaningful or potentially useful you discover from these visualizations.\n",
    "        - These may also help to understand what data is missing or needs imputation.\n",
    "        - Note: You can also use data from other sources to bolster visualizations. \n",
    "        - Visualize at least five plots, at least one categorical. \n",
    "\n",
    "    - [2.5 points] Ask three interesting questions that are relevant to your dataset and explore visuals that help answer these questions. \n",
    "        - Use whichever visualization method is appropriate for your data.  \n",
    "        - Important: Interpret the implications for each visualization. "
   ]
  },
  {
   "cell_type": "markdown",
   "metadata": {},
   "source": [
    "### 3.1 Visualizing Basic Feature Distributions"
   ]
  },
  {
   "cell_type": "code",
   "execution_count": 28,
   "metadata": {},
   "outputs": [
    {
     "data": {
      "image/png": "[encoded data removed]",
      "text/plain": [
       "<Figure size 1000x600 with 1 Axes>"
      ]
     },
     "metadata": {},
     "output_type": "display_data"
    },
    {
     "data": {
      "text/plain": [
       "count    75208.000000\n",
       "mean       103.952338\n",
       "std         45.739756\n",
       "min          0.000000\n",
       "25%         73.000000\n",
       "50%         99.000000\n",
       "75%        132.600000\n",
       "max        229.710000\n",
       "Name: adr, dtype: float64"
      ]
     },
     "execution_count": 28,
     "metadata": {},
     "output_type": "execute_result"
    }
   ],
   "source": [
    "# Distribution of Average Daily Rate\n",
    "sns.set_style(\"darkgrid\")\n",
    "sns.set_context(\"talk\")  \n",
    "\n",
    "plt.figure(figsize=(10, 6))\n",
    "\n",
    "# Histogram with KDE\n",
    "sns.histplot(data=df, x='adr', kde=True, bins=20, color='skyblue', line_kws={'color': 'darkblue', 'lw': 3})\n",
    "plt.title('Distribution of Average Daily Rate', fontsize=16, weight='bold')\n",
    "plt.xlabel('Average Daily Rate', fontsize=14)\n",
    "plt.ylabel('Frequency', fontsize=14)\n",
    "plt.grid(True, linestyle='--', alpha=0.7)\n",
    "plt.show()\n",
    "\n",
    "\n",
    "df['adr'].describe()"
   ]
  },
  {
   "cell_type": "markdown",
   "metadata": {},
   "source": [
    "#### Distribution Insights:\n",
    "\n",
    "- **Average Daily Rate Overview:**\n",
    "   - The average daily rate (ADR) of hotel stays ranges from a minimum of 0 to a maximum of 235.\n",
    "   - The mean ADR is approximately $106.40.\n",
    "   - The median ADR is close to the mean, at $100.07, suggesting a relatively symmetric distribution of ADR values around the center.\n",
    "\n",
    "- **Variability in ADR:**\n",
    "   - The standard deviation of 46.34 reveals a significant spread around the average ADR. \n",
    "   - This suggests that there is considerable variability in the prices of hotel rooms. \n",
    "   - Some guests are paying much more or less than the average rate, reflecting a range of pricing strategies or room types.\n",
    "\n",
    "- **Percentile Distribution:**\n",
    "   - The 25th percentile at 75.00 indicates that 25% of the ADR values are below 75.00.\n",
    "   - The 75th percentile at 135.00 shows that 75% of the ADR values are below 135.00. \n",
    "\n",
    "- **Histogram and Kernel Density Estimate (KDE):**\n",
    "   - The peak of the histogram and KDE curve suggests that most ADR values are concentrated around $100, with a gradual decline in frequency for higher and lower ADR values.\n",
    "\n",
    "- **Observations from the Plot:**\n",
    "   - The distribution shows a skew towards higher ADR values, with a notable frequency of ADRs around the $100 mark.\n",
    "   - There is a long tail on the higher end, indicating that while most ADRs are clustered around the middle range, there are some high-value outliers.\n",
    "   - We decided to keep those high-value outliers as they are probably from reserving rooms with more features and ammenities.\n"
   ]
  },
  {
   "cell_type": "markdown",
   "metadata": {},
   "source": [
    "### **Question 1: What is the impact of repeat guest status on cancellation rates across different hotel types?**"
   ]
  },
  {
   "cell_type": "code",
   "execution_count": 29,
   "metadata": {},
   "outputs": [
    {
     "data": {
      "image/png": "[encoded data removed]",
      "text/plain": [
       "<Figure size 1000x600 with 1 Axes>"
      ]
     },
     "metadata": {},
     "output_type": "display_data"
    },
    {
     "data": {
      "text/html": [
       "<div>\n",
       "<style scoped>\n",
       "    .dataframe tbody tr th:only-of-type {\n",
       "        vertical-align: middle;\n",
       "    }\n",
       "\n",
       "    .dataframe tbody tr th {\n",
       "        vertical-align: top;\n",
       "    }\n",
       "\n",
       "    .dataframe thead th {\n",
       "        text-align: right;\n",
       "    }\n",
       "</style>\n",
       "<table border=\"1\" class=\"dataframe\">\n",
       "  <thead>\n",
       "    <tr style=\"text-align: right;\">\n",
       "      <th></th>\n",
       "      <th>is_repeated_guest</th>\n",
       "      <th>hotel</th>\n",
       "      <th>is_canceled</th>\n",
       "    </tr>\n",
       "  </thead>\n",
       "  <tbody>\n",
       "    <tr>\n",
       "      <th>0</th>\n",
       "      <td>Not Repeated</td>\n",
       "      <td>Resort Hotel</td>\n",
       "      <td>0.234532</td>\n",
       "    </tr>\n",
       "    <tr>\n",
       "      <th>1</th>\n",
       "      <td>Not Repeated</td>\n",
       "      <td>City Hotel</td>\n",
       "      <td>0.315011</td>\n",
       "    </tr>\n",
       "    <tr>\n",
       "      <th>2</th>\n",
       "      <td>Repeated</td>\n",
       "      <td>Resort Hotel</td>\n",
       "      <td>0.041638</td>\n",
       "    </tr>\n",
       "    <tr>\n",
       "      <th>3</th>\n",
       "      <td>Repeated</td>\n",
       "      <td>City Hotel</td>\n",
       "      <td>0.116564</td>\n",
       "    </tr>\n",
       "  </tbody>\n",
       "</table>\n",
       "</div>"
      ],
      "text/plain": [
       "  is_repeated_guest         hotel  is_canceled\n",
       "0      Not Repeated  Resort Hotel     0.234532\n",
       "1      Not Repeated    City Hotel     0.315011\n",
       "2          Repeated  Resort Hotel     0.041638\n",
       "3          Repeated    City Hotel     0.116564"
      ]
     },
     "execution_count": 29,
     "metadata": {},
     "output_type": "execute_result"
    }
   ],
   "source": [
    "# Cancellation Rates by Repeat Status in Each Hotel Type\n",
    "cancellation_rate = df.groupby(['is_repeated_guest', 'hotel'])['is_canceled'].mean().reset_index()\n",
    "\n",
    "# Mapping boolean values to appropriate labels\n",
    "cancellation_rate['is_repeated_guest'] = cancellation_rate['is_repeated_guest'].map({True: 'Repeated', False: 'Not Repeated'})\n",
    "cancellation_rate['hotel'] = cancellation_rate['hotel'].map({True: 'City Hotel', False: 'Resort Hotel'})\n",
    "\n",
    "sns.set_style(\"darkgrid\")\n",
    "sns.set_context(\"talk\")\n",
    "colors = ['#66c2a5', '#fc8d62']  \n",
    "\n",
    "plt.figure(figsize=(10, 6))\n",
    "sns.barplot(x='is_repeated_guest', y='is_canceled', hue='hotel', data=cancellation_rate, palette=colors)\n",
    "plt.title('Cancellation Rate by Repeated Guest Status and Hotel Type', fontsize=16, weight='bold')\n",
    "plt.xlabel('Repeated Guest Status', fontsize=14)\n",
    "plt.ylabel('Cancellation Rate', fontsize=14)\n",
    "\n",
    "plt.legend(title='Hotel Type', fontsize=12, title_fontsize='13')\n",
    "plt.grid(True, linestyle='--', alpha=0.7)\n",
    "plt.show()\n",
    "\n",
    "cancellation_rate"
   ]
  },
  {
   "cell_type": "markdown",
   "metadata": {},
   "source": [
    "#### Non-Repeated Guests Cancellation Rate\n",
    "- **City Hotel:** Non-repeated guests have a cancellation rate of 32.68%.\n",
    "- **Resort Hotel:** Non-repeated guests have a cancellation rate of 25.97%.\n",
    "\n",
    "- Non-repeated guests tend to cancel more often, especially in city hotels. This could indicate that first-time visitors to city hotels are more likely to have unpredictable plans or different expectations, leading to cancellations. Resort hotels seem to fare slightly better with non-repeated guests in terms of cancellations.\n",
    "\n",
    "#### Repeated Guests Cancellation Rate\n",
    "- **City Hotel:** Repeated guests have a cancellation rate of 15.33%.\n",
    "- **Resort Hotel:** Repeated guests have a much lower cancellation rate of 5.33%.\n",
    "\n",
    "- Guests who have stayed before tend to cancel less frequently, especially at resort hotels, where the cancellation rate is very low. This suggests that resort hotels are successful at retaining loyal guests who follow through with their reservations, possibly through rewards programs or exceptional service.\n",
    "\n",
    "#### City Hotels Experience Higher Cancellation Rates\n",
    "- Across both guest types (repeated and non-repeated), city hotels face higher cancellation rates.\n",
    "- This trend might reflect the different nature of trips to city hotels, where plans are possibly more subject to change, compared to resort stays that are likely more planned and leisure-oriented.\n"
   ]
  },
  {
   "cell_type": "markdown",
   "metadata": {},
   "source": [
    "### **Question 2: How do cancellation rates change over time, and are there noticeable trends or patterns in cancellations for each type of hotel?**"
   ]
  },
  {
   "cell_type": "code",
   "execution_count": 30,
   "metadata": {},
   "outputs": [
    {
     "data": {
      "image/png": "[encoded data removed]",
      "text/plain": [
       "<Figure size 1200x600 with 1 Axes>"
      ]
     },
     "metadata": {},
     "output_type": "display_data"
    }
   ],
   "source": [
    "# Relationship of month_year and cancellations across the two types of hotels\n",
    "monthly_cancellations = df.groupby(['month_year', 'hotel'])['is_canceled'].mean().reset_index()\n",
    "\n",
    "# Converting 'month_year' to string format for plotting\n",
    "monthly_cancellations['month_year'] = monthly_cancellations['month_year'].astype(str)\n",
    "monthly_cancellations['hotel'] = monthly_cancellations['hotel'].map({True: 'City Hotel', False: 'Resort Hotel'})\n",
    "\n",
    "plt.figure(figsize=(12, 6))\n",
    "sns.lineplot(data=monthly_cancellations, x='month_year', y='is_canceled', hue='hotel', marker='o')\n",
    "plt.xticks(rotation=45)\n",
    "plt.xlabel('Month-Year')\n",
    "plt.ylabel('Average Cancellation Rate')\n",
    "plt.title('Monthly Average Cancellation Rate by Hotel Type')\n",
    "plt.legend(title='Hotel Type')\n",
    "plt.tight_layout()\n",
    "plt.show()\n"
   ]
  },
  {
   "cell_type": "markdown",
   "metadata": {},
   "source": [
    "#### Analysis of Monthly Cancellation Rates \n",
    "\n",
    "##### Trends Over Time:\n",
    "- The cancellation rates appear to fluctuate over time for both hotels. Cancellation rates tend to be higher during the first few months of the year and gradually decrease and start to pick back up again towards the end of the year. An explanation for this is that this time is during the holidays and usually around the time when severe storms impact travel. As a result, many are left to cancel their travel plans and reservations. More cancellations are noted for city hotels during these periods, which could indicate that guests are more likely to cancel reservations for city hotels than resort hotels. \n",
    "\n",
    "- An interesting trend to note is that cancellations begin to decrease for both hotels at the beginning of the year 2017. Several factors could be in a play for this: one is hotels might have updated their cancellation policies or required deposits to reduce cancellations. Another reason could be that 2017 had an unusual apttern in demand or seasonality (especially since it had the lowest rates during the summer months).\n",
    "\n",
    "- The implications for this trend is that hotels should prepare for cancellations during the holiday seasons due to external or internal factors that prevent guests from going through with their reservation. The summer season when children are out of school tend to have fewer cancellations, which could imply that family groups are vacationing and thus less likely to cancel their reservations, which is apparent in the graph. Therefore, we can predict cancellations to occur more often during the last and first few months of the year. "
   ]
  },
  {
   "cell_type": "markdown",
   "metadata": {},
   "source": []
  }
 ],
 "metadata": {
  "kernelspec": {
   "display_name": "base",
   "language": "python",
   "name": "python3"
  },
  "language_info": {
   "codemirror_mode": {
    "name": "ipython",
    "version": 3
   },
   "file_extension": ".py",
   "mimetype": "text/x-python",
   "name": "python",
   "nbconvert_exporter": "python",
   "pygments_lexer": "ipython3",
   "version": "3.12.3"
  }
 },
 "nbformat": 4,
 "nbformat_minor": 2
}
